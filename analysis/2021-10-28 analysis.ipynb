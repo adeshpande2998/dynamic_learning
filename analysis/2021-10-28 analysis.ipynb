{
 "cells": [
  {
   "cell_type": "code",
   "execution_count": null,
   "id": "f8c68bd5",
   "metadata": {},
   "outputs": [],
   "source": [
    "import pandas as pd"
   ]
  },
  {
   "cell_type": "markdown",
   "id": "b103ca60",
   "metadata": {},
   "source": [
    "### changing json to csv ###"
   ]
  },
  {
   "cell_type": "code",
   "execution_count": null,
   "id": "8f8b27cd",
   "metadata": {},
   "outputs": [],
   "source": [
    "df = pd.read_json(r'C:\\Users\\adesh\\Documents\\DATA\\Phase1\\Day1\\roundwisedatas.json')\n",
    "df.to_csv('phase1day2.csv')"
   ]
  },
  {
   "cell_type": "code",
   "execution_count": null,
   "id": "27d8e729",
   "metadata": {},
   "outputs": [],
   "source": [
    "#phase1, day 2"
   ]
  },
  {
   "cell_type": "code",
   "execution_count": null,
   "id": "6da9673b",
   "metadata": {},
   "outputs": [],
   "source": [
    "df = pd.read_json(r'C:\\Users\\adesh\\Documents\\DATA\\Phase1\\Day2\\roundwisedatas.json')\n",
    "df.to_csv('phase1day2.csv')"
   ]
  },
  {
   "cell_type": "markdown",
   "id": "f43858d5",
   "metadata": {},
   "source": [
    "### cleaning the main obs ###"
   ]
  },
  {
   "cell_type": "code",
   "execution_count": null,
   "id": "3fe93004",
   "metadata": {},
   "outputs": [],
   "source": [
    "import pandas as pd"
   ]
  },
  {
   "cell_type": "code",
   "execution_count": 2,
   "id": "3679a6cf",
   "metadata": {},
   "outputs": [],
   "source": [
    "#phase 1"
   ]
  },
  {
   "cell_type": "code",
   "execution_count": 3,
   "id": "6df29400",
   "metadata": {},
   "outputs": [],
   "source": [
    "df = pd.read_csv(r\"C:\\Users\\adesh\\Documents\\LBR_data\\Phase1\\Day1\\phase1day1.csv\")"
   ]
  },
  {
   "cell_type": "code",
   "execution_count": 4,
   "id": "24743d57",
   "metadata": {},
   "outputs": [],
   "source": [
    "df['subject_id'] = 0"
   ]
  },
  {
   "cell_type": "code",
   "execution_count": 5,
   "id": "ad666adf",
   "metadata": {},
   "outputs": [
    {
     "data": {
      "text/plain": [
       "Index(['Unnamed: 0', '_id', 'userId', 'roundNo', 'screenTime', 'sliderValue',\n",
       "       'currHiddenProb', 'currRingColor', 'nextHiddenProb', 'nextRingColor',\n",
       "       'cumlativeScore', 'changedInScore', '__v', 'subject_id'],\n",
       "      dtype='object')"
      ]
     },
     "execution_count": 5,
     "metadata": {},
     "output_type": "execute_result"
    }
   ],
   "source": [
    "df.columns"
   ]
  },
  {
   "cell_type": "code",
   "execution_count": 6,
   "id": "b76bce9b",
   "metadata": {},
   "outputs": [
    {
     "data": {
      "text/plain": [
       "3                1000\n",
       "19               1000\n",
       "22               1000\n",
       "6                1000\n",
       "21               1000\n",
       "13               1000\n",
       "5                1000\n",
       "20               1000\n",
       "12               1000\n",
       "4                1000\n",
       "23               1000\n",
       "18               1000\n",
       "17               1000\n",
       "24               1000\n",
       "1                 529\n",
       "15                 93\n",
       "16                 73\n",
       "2                  58\n",
       "0                  55\n",
       "9                  33\n",
       "10                 30\n",
       "8                  19\n",
       "1000000000000       6\n",
       "Name: userId, dtype: int64"
      ]
     },
     "execution_count": 6,
     "metadata": {},
     "output_type": "execute_result"
    }
   ],
   "source": [
    "df['userId'].value_counts()"
   ]
  },
  {
   "cell_type": "code",
   "execution_count": 7,
   "id": "91d53b6a",
   "metadata": {},
   "outputs": [],
   "source": [
    "df.loc[df['userId']==3,'subject_id'] = 101\n",
    "df.loc[df['userId']==4,'subject_id'] = 102\n",
    "df.loc[df['userId']==5,'subject_id'] = 103\n",
    "df.loc[df['userId']==6,'subject_id'] = 104\n",
    "df.loc[df['userId']==12,'subject_id'] = 105\n",
    "df.loc[df['userId']==13,'subject_id'] = 106\n",
    "df.loc[df['userId']==17,'subject_id'] = 107\n",
    "df.loc[df['userId']==18,'subject_id'] = 108\n",
    "df.loc[df['userId']==20,'subject_id'] = 109\n",
    "df.loc[df['userId']==19,'subject_id'] = 110\n",
    "df.loc[df['userId']==22,'subject_id'] = 111\n",
    "df.loc[df['userId']==21,'subject_id'] = 112\n",
    "df.loc[df['userId']==24,'subject_id'] = 113\n",
    "df.loc[df['userId']==23,'subject_id'] = 114"
   ]
  },
  {
   "cell_type": "code",
   "execution_count": 8,
   "id": "7cb05c1d",
   "metadata": {},
   "outputs": [],
   "source": [
    "df2 = pd.read_csv(r\"C:\\Users\\adesh\\Documents\\LBR_data\\Phase1\\Day2\\phase1day2.csv\")"
   ]
  },
  {
   "cell_type": "code",
   "execution_count": 9,
   "id": "2c9d0d72",
   "metadata": {},
   "outputs": [],
   "source": [
    "df2['subject_id'] = 0"
   ]
  },
  {
   "cell_type": "code",
   "execution_count": 10,
   "id": "8b9e9f36",
   "metadata": {},
   "outputs": [],
   "source": [
    "df2.loc[df2['userId']==2,'subject_id'] = 115\n",
    "df2.loc[df2['userId']==1,'subject_id'] = 116\n",
    "df2.loc[df2['userId']==4,'subject_id'] = 117\n",
    "df2.loc[df2['userId']==3,'subject_id'] = 118\n",
    "df2.loc[df2['userId']==5,'subject_id'] = 119\n",
    "df2.loc[df2['userId']==6,'subject_id'] = 120\n",
    "df2.loc[df2['userId']==8,'subject_id'] = 121\n",
    "df2.loc[df2['userId']==7,'subject_id'] = 122\n",
    "df2.loc[df2['userId']==11,'subject_id'] = 123\n",
    "df2.loc[df2['userId']==9,'subject_id'] = 124\n",
    "df2.loc[df2['userId']==13,'subject_id'] = 125\n",
    "df2.loc[df2['userId']==14,'subject_id'] = 126\n",
    "df2.loc[df2['userId']==15,'subject_id'] = 127\n",
    "df2.loc[df2['userId']==16,'subject_id'] = 128\n",
    "df2.loc[df2['userId']==17,'subject_id'] = 129\n",
    "df2.loc[df2['userId']==18,'subject_id'] = 130"
   ]
  },
  {
   "cell_type": "code",
   "execution_count": 11,
   "id": "47a5b2a6",
   "metadata": {},
   "outputs": [],
   "source": [
    "df = df[df['subject_id']>0]\n",
    "df2 = df2[df2['subject_id']>0]"
   ]
  },
  {
   "cell_type": "code",
   "execution_count": 12,
   "id": "36d5e0cd",
   "metadata": {},
   "outputs": [
    {
     "data": {
      "text/html": [
       "<div>\n",
       "<style scoped>\n",
       "    .dataframe tbody tr th:only-of-type {\n",
       "        vertical-align: middle;\n",
       "    }\n",
       "\n",
       "    .dataframe tbody tr th {\n",
       "        vertical-align: top;\n",
       "    }\n",
       "\n",
       "    .dataframe thead th {\n",
       "        text-align: right;\n",
       "    }\n",
       "</style>\n",
       "<table border=\"1\" class=\"dataframe\">\n",
       "  <thead>\n",
       "    <tr style=\"text-align: right;\">\n",
       "      <th></th>\n",
       "      <th>Unnamed: 0</th>\n",
       "      <th>_id</th>\n",
       "      <th>userId</th>\n",
       "      <th>roundNo</th>\n",
       "      <th>screenTime</th>\n",
       "      <th>sliderValue</th>\n",
       "      <th>currHiddenProb</th>\n",
       "      <th>currRingColor</th>\n",
       "      <th>nextHiddenProb</th>\n",
       "      <th>nextRingColor</th>\n",
       "      <th>cumlativeScore</th>\n",
       "      <th>changedInScore</th>\n",
       "      <th>__v</th>\n",
       "      <th>subject_id</th>\n",
       "    </tr>\n",
       "  </thead>\n",
       "  <tbody>\n",
       "    <tr>\n",
       "      <th>567</th>\n",
       "      <td>567</td>\n",
       "      <td>{'$oid': '614eccd588170668f6197f7c'}</td>\n",
       "      <td>3</td>\n",
       "      <td>1</td>\n",
       "      <td>18.647</td>\n",
       "      <td>50.0</td>\n",
       "      <td>0.140</td>\n",
       "      <td>0</td>\n",
       "      <td>0.140</td>\n",
       "      <td>1</td>\n",
       "      <td>0.75</td>\n",
       "      <td>0.75</td>\n",
       "      <td>0</td>\n",
       "      <td>101</td>\n",
       "    </tr>\n",
       "    <tr>\n",
       "      <th>568</th>\n",
       "      <td>568</td>\n",
       "      <td>{'$oid': '614eccdb88170668f6197f7f'}</td>\n",
       "      <td>3</td>\n",
       "      <td>2</td>\n",
       "      <td>6.284</td>\n",
       "      <td>50.0</td>\n",
       "      <td>0.140</td>\n",
       "      <td>1</td>\n",
       "      <td>0.140</td>\n",
       "      <td>0</td>\n",
       "      <td>1.50</td>\n",
       "      <td>0.75</td>\n",
       "      <td>0</td>\n",
       "      <td>101</td>\n",
       "    </tr>\n",
       "    <tr>\n",
       "      <th>569</th>\n",
       "      <td>569</td>\n",
       "      <td>{'$oid': '614eccdd88170668f6197f82'}</td>\n",
       "      <td>3</td>\n",
       "      <td>3</td>\n",
       "      <td>1.786</td>\n",
       "      <td>50.0</td>\n",
       "      <td>0.140</td>\n",
       "      <td>0</td>\n",
       "      <td>0.140</td>\n",
       "      <td>0</td>\n",
       "      <td>2.25</td>\n",
       "      <td>0.75</td>\n",
       "      <td>0</td>\n",
       "      <td>101</td>\n",
       "    </tr>\n",
       "    <tr>\n",
       "      <th>570</th>\n",
       "      <td>570</td>\n",
       "      <td>{'$oid': '614ecce088170668f6197f85'}</td>\n",
       "      <td>3</td>\n",
       "      <td>4</td>\n",
       "      <td>4.200</td>\n",
       "      <td>50.0</td>\n",
       "      <td>0.140</td>\n",
       "      <td>0</td>\n",
       "      <td>0.140</td>\n",
       "      <td>1</td>\n",
       "      <td>3.00</td>\n",
       "      <td>0.75</td>\n",
       "      <td>0</td>\n",
       "      <td>101</td>\n",
       "    </tr>\n",
       "    <tr>\n",
       "      <th>571</th>\n",
       "      <td>571</td>\n",
       "      <td>{'$oid': '614ecce688170668f6197f8b'}</td>\n",
       "      <td>3</td>\n",
       "      <td>5</td>\n",
       "      <td>5.979</td>\n",
       "      <td>50.0</td>\n",
       "      <td>0.140</td>\n",
       "      <td>1</td>\n",
       "      <td>0.140</td>\n",
       "      <td>0</td>\n",
       "      <td>3.75</td>\n",
       "      <td>0.75</td>\n",
       "      <td>0</td>\n",
       "      <td>101</td>\n",
       "    </tr>\n",
       "    <tr>\n",
       "      <th>572</th>\n",
       "      <td>572</td>\n",
       "      <td>{'$oid': '614ecce988170668f6197f8e'}</td>\n",
       "      <td>3</td>\n",
       "      <td>6</td>\n",
       "      <td>3.568</td>\n",
       "      <td>50.0</td>\n",
       "      <td>0.140</td>\n",
       "      <td>0</td>\n",
       "      <td>0.140</td>\n",
       "      <td>0</td>\n",
       "      <td>4.50</td>\n",
       "      <td>0.75</td>\n",
       "      <td>0</td>\n",
       "      <td>101</td>\n",
       "    </tr>\n",
       "    <tr>\n",
       "      <th>573</th>\n",
       "      <td>573</td>\n",
       "      <td>{'$oid': '614eccee88170668f6197f91'}</td>\n",
       "      <td>3</td>\n",
       "      <td>7</td>\n",
       "      <td>4.872</td>\n",
       "      <td>50.0</td>\n",
       "      <td>0.140</td>\n",
       "      <td>0</td>\n",
       "      <td>0.140</td>\n",
       "      <td>0</td>\n",
       "      <td>5.25</td>\n",
       "      <td>0.75</td>\n",
       "      <td>0</td>\n",
       "      <td>101</td>\n",
       "    </tr>\n",
       "    <tr>\n",
       "      <th>574</th>\n",
       "      <td>574</td>\n",
       "      <td>{'$oid': '614eccf388170668f6197f94'}</td>\n",
       "      <td>4</td>\n",
       "      <td>1</td>\n",
       "      <td>15.051</td>\n",
       "      <td>50.0</td>\n",
       "      <td>0.773</td>\n",
       "      <td>1</td>\n",
       "      <td>0.773</td>\n",
       "      <td>1</td>\n",
       "      <td>0.75</td>\n",
       "      <td>0.75</td>\n",
       "      <td>0</td>\n",
       "      <td>102</td>\n",
       "    </tr>\n",
       "    <tr>\n",
       "      <th>575</th>\n",
       "      <td>575</td>\n",
       "      <td>{'$oid': '614eccf388170668f6197f97'}</td>\n",
       "      <td>3</td>\n",
       "      <td>8</td>\n",
       "      <td>4.653</td>\n",
       "      <td>50.0</td>\n",
       "      <td>0.140</td>\n",
       "      <td>0</td>\n",
       "      <td>0.140</td>\n",
       "      <td>0</td>\n",
       "      <td>6.00</td>\n",
       "      <td>0.75</td>\n",
       "      <td>0</td>\n",
       "      <td>101</td>\n",
       "    </tr>\n",
       "    <tr>\n",
       "      <th>576</th>\n",
       "      <td>576</td>\n",
       "      <td>{'$oid': '614eccf488170668f6197f9a'}</td>\n",
       "      <td>3</td>\n",
       "      <td>9</td>\n",
       "      <td>1.252</td>\n",
       "      <td>50.0</td>\n",
       "      <td>0.140</td>\n",
       "      <td>0</td>\n",
       "      <td>0.140</td>\n",
       "      <td>0</td>\n",
       "      <td>6.75</td>\n",
       "      <td>0.75</td>\n",
       "      <td>0</td>\n",
       "      <td>101</td>\n",
       "    </tr>\n",
       "  </tbody>\n",
       "</table>\n",
       "</div>"
      ],
      "text/plain": [
       "     Unnamed: 0                                   _id  userId  roundNo  \\\n",
       "567         567  {'$oid': '614eccd588170668f6197f7c'}       3        1   \n",
       "568         568  {'$oid': '614eccdb88170668f6197f7f'}       3        2   \n",
       "569         569  {'$oid': '614eccdd88170668f6197f82'}       3        3   \n",
       "570         570  {'$oid': '614ecce088170668f6197f85'}       3        4   \n",
       "571         571  {'$oid': '614ecce688170668f6197f8b'}       3        5   \n",
       "572         572  {'$oid': '614ecce988170668f6197f8e'}       3        6   \n",
       "573         573  {'$oid': '614eccee88170668f6197f91'}       3        7   \n",
       "574         574  {'$oid': '614eccf388170668f6197f94'}       4        1   \n",
       "575         575  {'$oid': '614eccf388170668f6197f97'}       3        8   \n",
       "576         576  {'$oid': '614eccf488170668f6197f9a'}       3        9   \n",
       "\n",
       "     screenTime  sliderValue  currHiddenProb  currRingColor  nextHiddenProb  \\\n",
       "567      18.647         50.0           0.140              0           0.140   \n",
       "568       6.284         50.0           0.140              1           0.140   \n",
       "569       1.786         50.0           0.140              0           0.140   \n",
       "570       4.200         50.0           0.140              0           0.140   \n",
       "571       5.979         50.0           0.140              1           0.140   \n",
       "572       3.568         50.0           0.140              0           0.140   \n",
       "573       4.872         50.0           0.140              0           0.140   \n",
       "574      15.051         50.0           0.773              1           0.773   \n",
       "575       4.653         50.0           0.140              0           0.140   \n",
       "576       1.252         50.0           0.140              0           0.140   \n",
       "\n",
       "     nextRingColor  cumlativeScore  changedInScore  __v  subject_id  \n",
       "567              1            0.75            0.75    0         101  \n",
       "568              0            1.50            0.75    0         101  \n",
       "569              0            2.25            0.75    0         101  \n",
       "570              1            3.00            0.75    0         101  \n",
       "571              0            3.75            0.75    0         101  \n",
       "572              0            4.50            0.75    0         101  \n",
       "573              0            5.25            0.75    0         101  \n",
       "574              1            0.75            0.75    0         102  \n",
       "575              0            6.00            0.75    0         101  \n",
       "576              0            6.75            0.75    0         101  "
      ]
     },
     "execution_count": 12,
     "metadata": {},
     "output_type": "execute_result"
    }
   ],
   "source": [
    "df.head(10)"
   ]
  },
  {
   "cell_type": "code",
   "execution_count": 13,
   "id": "48a1e407",
   "metadata": {},
   "outputs": [],
   "source": [
    "df3 = pd.concat([df,df2],axis=0)"
   ]
  },
  {
   "cell_type": "code",
   "execution_count": 14,
   "id": "cd35acdd",
   "metadata": {},
   "outputs": [],
   "source": [
    "df3['trt_type'] = 1"
   ]
  },
  {
   "cell_type": "code",
   "execution_count": 15,
   "id": "33d019cd",
   "metadata": {},
   "outputs": [],
   "source": [
    "df3.to_csv(r'C:\\Users\\adesh\\Documents\\LBR_data\\Phase1\\phase1data_complete.csv')"
   ]
  },
  {
   "cell_type": "code",
   "execution_count": 16,
   "id": "a0f53a15",
   "metadata": {},
   "outputs": [
    {
     "data": {
      "text/plain": [
       "(30000, 15)"
      ]
     },
     "execution_count": 16,
     "metadata": {},
     "output_type": "execute_result"
    }
   ],
   "source": [
    "df3.shape"
   ]
  },
  {
   "cell_type": "code",
   "execution_count": 17,
   "id": "6bfa2439",
   "metadata": {},
   "outputs": [],
   "source": [
    "del df, df2, df3"
   ]
  },
  {
   "cell_type": "code",
   "execution_count": 18,
   "id": "630368bf",
   "metadata": {},
   "outputs": [],
   "source": [
    "#phase 2"
   ]
  },
  {
   "cell_type": "code",
   "execution_count": 19,
   "id": "34d4bfc6",
   "metadata": {},
   "outputs": [],
   "source": [
    "df = pd.read_csv(r\"C:\\Users\\adesh\\Documents\\LBR_data\\Phase2\\Day1\\phase2day1.csv\")"
   ]
  },
  {
   "cell_type": "code",
   "execution_count": 20,
   "id": "1e6edcb1",
   "metadata": {},
   "outputs": [],
   "source": [
    "df['subject_id'] = 0"
   ]
  },
  {
   "cell_type": "code",
   "execution_count": 21,
   "id": "30f3d422",
   "metadata": {},
   "outputs": [],
   "source": [
    "df.loc[df['userId']==1511,'subject_id'] = 201\n",
    "df.loc[df['userId']==1512,'subject_id'] = 202\n",
    "df.loc[df['userId']==1521,'subject_id'] = 203\n",
    "df.loc[df['userId']==1522,'subject_id'] = 204\n",
    "df.loc[df['userId']==1531,'subject_id'] = 205\n",
    "df.loc[df['userId']==1532,'subject_id'] = 206\n",
    "df.loc[df['userId']==1541,'subject_id'] = 207\n",
    "df.loc[df['userId']==1542,'subject_id'] = 208\n",
    "df.loc[df['userId']==1551,'subject_id'] = 209\n",
    "df.loc[df['userId']==1552,'subject_id'] = 210\n",
    "df.loc[df['userId']==1561,'subject_id'] = 211\n",
    "df.loc[df['userId']==1562,'subject_id'] = 212\n",
    "df.loc[df['userId']==1571,'subject_id'] = 213\n",
    "df.loc[df['userId']==1572,'subject_id'] = 214\n",
    "df.loc[df['userId']==1581,'subject_id'] = 215\n",
    "df.loc[df['userId']==1582,'subject_id'] = 216"
   ]
  },
  {
   "cell_type": "code",
   "execution_count": 22,
   "id": "1c3c3461",
   "metadata": {},
   "outputs": [],
   "source": [
    "df2 = pd.read_csv(r\"C:\\Users\\adesh\\Documents\\LBR_data\\Phase2\\Day2\\phase2day2.csv\")\n",
    "df2['subject_id'] = 0"
   ]
  },
  {
   "cell_type": "code",
   "execution_count": 23,
   "id": "76c538c7",
   "metadata": {},
   "outputs": [],
   "source": [
    "df2.loc[df2['userId']==1611,'subject_id']= 217\n",
    "df2.loc[df2['userId']==1612,'subject_id']= 218\n",
    "df2.loc[df2['userId']==1621,'subject_id']= 219\n",
    "df2.loc[df2['userId']==1622,'subject_id']= 220\n",
    "df2.loc[df2['userId']==1631,'subject_id']= 221\n",
    "df2.loc[df2['userId']==1632,'subject_id']= 222"
   ]
  },
  {
   "cell_type": "code",
   "execution_count": 24,
   "id": "aa2fdcf8",
   "metadata": {},
   "outputs": [],
   "source": [
    "df3 = pd.read_csv(r\"C:\\Users\\adesh\\Documents\\LBR_data\\Phase2\\Day3\\phase2day3.csv\")\n",
    "df3['subject_id'] = 0"
   ]
  },
  {
   "cell_type": "code",
   "execution_count": 25,
   "id": "b541145f",
   "metadata": {},
   "outputs": [],
   "source": [
    "df3.loc[df3['userId']==1712,'subject_id'] = 223\n",
    "df3.loc[df3['userId']==1721,'subject_id'] = 224\n",
    "df3.loc[df3['userId']==1722,'subject_id'] = 225\n",
    "df3.loc[df3['userId']==1731,'subject_id'] = 226\n",
    "df3.loc[df3['userId']==1732,'subject_id'] = 227\n",
    "df3.loc[df3['userId']==1741,'subject_id'] = 228\n",
    "df3.loc[df3['userId']==1742,'subject_id'] = 229\n",
    "df3.loc[df3['userId']==1751,'subject_id'] = 230\n",
    "df3.loc[df3['userId']==1752,'subject_id'] = 231\n",
    "df3.loc[df3['userId']==1761,'subject_id'] = 232\n",
    "df3.loc[df3['userId']==1762,'subject_id'] = 233"
   ]
  },
  {
   "cell_type": "code",
   "execution_count": 26,
   "id": "687d9253",
   "metadata": {},
   "outputs": [],
   "source": [
    "df = df[df['subject_id']>0]\n",
    "df2 = df2[df2['subject_id']>0]\n",
    "df3 = df3[df3['subject_id']>0]"
   ]
  },
  {
   "cell_type": "code",
   "execution_count": 27,
   "id": "f0386965",
   "metadata": {},
   "outputs": [],
   "source": [
    "df4 = pd.concat([df,df2,df3],axis=0)\n",
    "df4['trt_type'] = 0"
   ]
  },
  {
   "cell_type": "code",
   "execution_count": 28,
   "id": "a2c69cbf",
   "metadata": {},
   "outputs": [
    {
     "data": {
      "text/plain": [
       "(33000, 15)"
      ]
     },
     "execution_count": 28,
     "metadata": {},
     "output_type": "execute_result"
    }
   ],
   "source": [
    "df4.shape"
   ]
  },
  {
   "cell_type": "code",
   "execution_count": 29,
   "id": "6825ea4f",
   "metadata": {},
   "outputs": [],
   "source": [
    "df4.to_csv(r'C:\\Users\\adesh\\Documents\\LBR_data\\Phase2\\phase2data_complete.csv')"
   ]
  },
  {
   "cell_type": "code",
   "execution_count": 30,
   "id": "2cd42664",
   "metadata": {},
   "outputs": [],
   "source": [
    "del df, df2, df3, df4"
   ]
  },
  {
   "cell_type": "markdown",
   "id": "2fbabe63",
   "metadata": {},
   "source": [
    "### cleaning the demo data and appending it to the main data ###"
   ]
  },
  {
   "cell_type": "code",
   "execution_count": 31,
   "id": "7d0b488c",
   "metadata": {},
   "outputs": [],
   "source": [
    "#phase 1"
   ]
  },
  {
   "cell_type": "code",
   "execution_count": 32,
   "id": "cbbd41e4",
   "metadata": {},
   "outputs": [],
   "source": [
    "import pandas as pd"
   ]
  },
  {
   "cell_type": "code",
   "execution_count": 33,
   "id": "97edada2",
   "metadata": {},
   "outputs": [],
   "source": [
    "df = pd.read_excel(r'C:\\Users\\adesh\\Documents\\LBR_data\\Phase1\\Phase 1 - Participant Forms.xlsx')\n",
    "df['subject_id'] = 0"
   ]
  },
  {
   "cell_type": "code",
   "execution_count": 34,
   "id": "cb9c27a8",
   "metadata": {},
   "outputs": [],
   "source": [
    "df.loc[(df['Day'] == 1) & (df['ID'] ==3),'subject_id'] = 101\n",
    "df.loc[(df['Day'] == 1) & (df['ID'] ==4),'subject_id'] = 102\n",
    "df.loc[(df['Day'] == 1) & (df['ID'] ==5),'subject_id'] = 103\n",
    "df.loc[(df['Day'] == 1) & (df['ID'] ==6),'subject_id'] = 104\n",
    "df.loc[(df['Day'] == 1) & (df['ID'] ==12),'subject_id'] = 105\n",
    "df.loc[(df['Day'] == 1) & (df['ID'] ==13),'subject_id'] = 106\n",
    "df.loc[(df['Day'] == 1) & (df['ID'] ==17),'subject_id'] = 107\n",
    "df.loc[(df['Day'] == 1) & (df['ID'] ==18),'subject_id'] = 108\n",
    "df.loc[(df['Day'] == 1) & (df['ID'] ==20),'subject_id'] = 109\n",
    "df.loc[(df['Day'] == 1) & (df['ID'] ==19),'subject_id'] = 110\n",
    "df.loc[(df['Day'] == 1) & (df['ID'] ==22),'subject_id'] = 111\n",
    "df.loc[(df['Day'] == 1) & (df['ID'] ==21),'subject_id'] = 112\n",
    "df.loc[(df['Day'] == 1) & (df['ID'] ==24),'subject_id'] = 113\n",
    "df.loc[(df['Day'] == 1) & (df['ID'] ==23),'subject_id'] = 114"
   ]
  },
  {
   "cell_type": "code",
   "execution_count": 35,
   "id": "dc985197",
   "metadata": {},
   "outputs": [],
   "source": [
    "df.loc[(df['Day'] == 2) & (df['ID']==2),'subject_id'] = 115\n",
    "df.loc[(df['Day'] == 2) & (df['ID']==1),'subject_id'] = 116\n",
    "df.loc[(df['Day'] == 2) & (df['ID']==4),'subject_id'] = 117\n",
    "df.loc[(df['Day'] == 2) & (df['ID']==3),'subject_id'] = 118\n",
    "df.loc[(df['Day'] == 2) & (df['ID']==5),'subject_id'] = 119\n",
    "df.loc[(df['Day'] == 2) & (df['ID']==6),'subject_id'] = 120\n",
    "df.loc[(df['Day'] == 2) & (df['ID']==8),'subject_id'] = 121\n",
    "df.loc[(df['Day'] == 2) & (df['ID']==7),'subject_id'] = 122\n",
    "df.loc[(df['Day'] == 2) & (df['ID']==11),'subject_id'] = 123\n",
    "df.loc[(df['Day'] == 2) & (df['ID']==9),'subject_id'] = 124\n",
    "df.loc[(df['Day'] == 2) & (df['ID']==13),'subject_id'] = 125\n",
    "df.loc[(df['Day'] == 2) & (df['ID']==14),'subject_id'] = 126\n",
    "df.loc[(df['Day'] == 2) & (df['ID']==15),'subject_id'] = 127\n",
    "df.loc[(df['Day'] == 2) & (df['ID']==16),'subject_id'] = 128\n",
    "df.loc[(df['Day'] == 2) & (df['ID']==17),'subject_id'] = 129\n",
    "df.loc[(df['Day'] == 2) & (df['ID']==18),'subject_id'] = 130"
   ]
  },
  {
   "cell_type": "code",
   "execution_count": 36,
   "id": "edc883c1",
   "metadata": {},
   "outputs": [],
   "source": [
    "df_main = pd.read_csv(r'C:\\Users\\adesh\\Documents\\LBR_data\\Phase1\\phase1data_complete.csv')"
   ]
  },
  {
   "cell_type": "code",
   "execution_count": 37,
   "id": "fbe69f52",
   "metadata": {},
   "outputs": [],
   "source": [
    "df_combined = pd.merge(df_main,df,on='subject_id')"
   ]
  },
  {
   "cell_type": "code",
   "execution_count": 38,
   "id": "1f28eeab",
   "metadata": {},
   "outputs": [
    {
     "data": {
      "text/plain": [
       "(30000, 39)"
      ]
     },
     "execution_count": 38,
     "metadata": {},
     "output_type": "execute_result"
    }
   ],
   "source": [
    "df_combined.shape"
   ]
  },
  {
   "cell_type": "code",
   "execution_count": 39,
   "id": "50e5b521",
   "metadata": {},
   "outputs": [],
   "source": [
    "df_combined.to_csv(r'C:\\Users\\adesh\\Documents\\LBR_data\\Phase1\\phase1data_complete.csv')"
   ]
  },
  {
   "cell_type": "code",
   "execution_count": 40,
   "id": "8a01c847",
   "metadata": {},
   "outputs": [],
   "source": [
    "del df, df_main, df_combined"
   ]
  },
  {
   "cell_type": "code",
   "execution_count": 41,
   "id": "05cb0c4d",
   "metadata": {},
   "outputs": [],
   "source": [
    "#phase 2"
   ]
  },
  {
   "cell_type": "code",
   "execution_count": 42,
   "id": "91f5e4d4",
   "metadata": {},
   "outputs": [],
   "source": [
    "df = pd.read_excel(r'C:\\Users\\adesh\\Documents\\LBR_data\\Phase2\\Phase 2 - Participant Intake Form (Responses).xlsx')\n",
    "df['subject_id'] = 0"
   ]
  },
  {
   "cell_type": "code",
   "execution_count": 43,
   "id": "7a198708",
   "metadata": {},
   "outputs": [],
   "source": [
    "df.loc[df['Participant number']==1511,'subject_id'] = 201\n",
    "df.loc[df['Participant number']==1512,'subject_id'] = 202\n",
    "df.loc[df['Participant number']==1521,'subject_id'] = 203\n",
    "df.loc[df['Participant number']==1522,'subject_id'] = 204\n",
    "df.loc[df['Participant number']==1531,'subject_id'] = 205\n",
    "df.loc[df['Participant number']==1532,'subject_id'] = 206\n",
    "df.loc[df['Participant number']==1541,'subject_id'] = 207\n",
    "df.loc[df['Participant number']==1542,'subject_id'] = 208\n",
    "df.loc[df['Participant number']==1551,'subject_id'] = 209\n",
    "df.loc[df['Participant number']==1552,'subject_id'] = 210\n",
    "df.loc[df['Participant number']==1561,'subject_id'] = 211\n",
    "df.loc[df['Participant number']==1562,'subject_id'] = 212\n",
    "df.loc[df['Participant number']==1571,'subject_id'] = 213\n",
    "df.loc[df['Participant number']==1572,'subject_id'] = 214\n",
    "df.loc[df['Participant number']==1581,'subject_id'] = 215\n",
    "df.loc[df['Participant number']==1582,'subject_id'] = 216"
   ]
  },
  {
   "cell_type": "code",
   "execution_count": 44,
   "id": "32d7543f",
   "metadata": {},
   "outputs": [],
   "source": [
    "df.loc[df['Participant number']==1611,'subject_id']= 217\n",
    "df.loc[df['Participant number']==1612,'subject_id']= 218\n",
    "df.loc[df['Participant number']==1621,'subject_id']= 219\n",
    "df.loc[df['Participant number']==1622,'subject_id']= 220\n",
    "df.loc[df['Participant number']==1631,'subject_id']= 221\n",
    "df.loc[df['Participant number']==1632,'subject_id']= 222"
   ]
  },
  {
   "cell_type": "code",
   "execution_count": 45,
   "id": "8e95c930",
   "metadata": {},
   "outputs": [],
   "source": [
    "df.loc[df['Participant number']==1712,'subject_id'] = 223\n",
    "df.loc[df['Participant number']==1721,'subject_id'] = 224\n",
    "df.loc[df['Participant number']==1722,'subject_id'] = 225\n",
    "df.loc[df['Participant number']==1731,'subject_id'] = 226\n",
    "df.loc[df['Participant number']==1732,'subject_id'] = 227\n",
    "df.loc[df['Participant number']==1741,'subject_id'] = 228\n",
    "df.loc[df['Participant number']==1742,'subject_id'] = 229\n",
    "df.loc[df['Participant number']==1751,'subject_id'] = 230\n",
    "df.loc[df['Participant number']==1752,'subject_id'] = 231\n",
    "df.loc[df['Participant number']==1761,'subject_id'] = 232\n",
    "df.loc[df['Participant number']==1762,'subject_id'] = 233"
   ]
  },
  {
   "cell_type": "code",
   "execution_count": 46,
   "id": "714afe56",
   "metadata": {},
   "outputs": [
    {
     "data": {
      "text/plain": [
       "(33000, 37)"
      ]
     },
     "execution_count": 46,
     "metadata": {},
     "output_type": "execute_result"
    }
   ],
   "source": [
    "df_main = pd.read_csv(r'C:\\Users\\adesh\\Documents\\LBR_data\\Phase2\\phase2data_complete.csv')\n",
    "df_combined = pd.merge(df_main,df,on='subject_id')\n",
    "df_combined.shape"
   ]
  },
  {
   "cell_type": "code",
   "execution_count": 47,
   "id": "f8c0ae90",
   "metadata": {},
   "outputs": [],
   "source": [
    "df_combined.to_csv(r'C:\\Users\\adesh\\Documents\\LBR_data\\Phase2\\phase2data_complete.csv')"
   ]
  },
  {
   "cell_type": "code",
   "execution_count": 48,
   "id": "16dd38bc",
   "metadata": {},
   "outputs": [],
   "source": [
    "del df, df_main, df_combined"
   ]
  },
  {
   "cell_type": "markdown",
   "id": "3c05efd9",
   "metadata": {},
   "source": [
    "### combining all data ###"
   ]
  },
  {
   "cell_type": "code",
   "execution_count": 49,
   "id": "a4a2a35e",
   "metadata": {},
   "outputs": [],
   "source": [
    "df_phase1 = pd.read_csv(r'C:\\Users\\adesh\\Documents\\LBR_data\\Phase1\\phase1data_complete.csv')\n",
    "df_phase2 = pd.read_csv(r'C:\\Users\\adesh\\Documents\\LBR_data\\Phase2\\phase2data_complete.csv')"
   ]
  },
  {
   "cell_type": "code",
   "execution_count": 50,
   "id": "911cf691",
   "metadata": {},
   "outputs": [],
   "source": [
    "df_combined = pd.concat([df_phase1,df_phase2],axis=0)"
   ]
  },
  {
   "cell_type": "code",
   "execution_count": 51,
   "id": "bf38d34c",
   "metadata": {},
   "outputs": [
    {
     "data": {
      "text/plain": [
       "(63000, 41)"
      ]
     },
     "execution_count": 51,
     "metadata": {},
     "output_type": "execute_result"
    }
   ],
   "source": [
    "df_combined.shape"
   ]
  },
  {
   "cell_type": "code",
   "execution_count": 52,
   "id": "9e9c9625",
   "metadata": {},
   "outputs": [],
   "source": [
    "df_combined.to_csv('master_data.csv')\n",
    "\n",
    "#saved it in the main folder - and also changed the variable names to something usable"
   ]
  },
  {
   "cell_type": "code",
   "execution_count": 53,
   "id": "4d14e98e",
   "metadata": {},
   "outputs": [],
   "source": [
    "del df_phase1, df_phase2, df_combined"
   ]
  },
  {
   "cell_type": "code",
   "execution_count": 54,
   "id": "bb7bb826",
   "metadata": {},
   "outputs": [],
   "source": [
    "#turning demographic data into categorical variables"
   ]
  },
  {
   "cell_type": "code",
   "execution_count": 59,
   "id": "97f4f7e0",
   "metadata": {},
   "outputs": [],
   "source": [
    "df = pd.read_csv('master_data.csv')"
   ]
  },
  {
   "cell_type": "code",
   "execution_count": 60,
   "id": "f9bef7a7",
   "metadata": {},
   "outputs": [
    {
     "data": {
      "text/plain": [
       "Index(['Unnamed: 0', 'roundNo', 'screenTime', 'sliderValue', 'currHiddenProb',\n",
       "       'currRingColor', 'nextHiddenProb', 'nextRingColor', 'cumlativeScore',\n",
       "       'changedInScore', 'subject_id', 'trt_type', 'sex', 'age', 'married',\n",
       "       'education', 'only_earning', 'head_family', 'no_people',\n",
       "       'monthly_income', 'salary_date', 'bills_date', 'fluctuating_expense',\n",
       "       'fluctuating_date'],\n",
       "      dtype='object')"
      ]
     },
     "execution_count": 60,
     "metadata": {},
     "output_type": "execute_result"
    }
   ],
   "source": [
    "df.columns"
   ]
  },
  {
   "cell_type": "code",
   "execution_count": 61,
   "id": "ac2177d0",
   "metadata": {},
   "outputs": [
    {
     "data": {
      "text/plain": [
       "06-Oct                   32000\n",
       "11-Dec                   18000\n",
       "College degree holder     7000\n",
       "Some college              3000\n",
       "Diploma holder            3000\n",
       "Name: education, dtype: int64"
      ]
     },
     "execution_count": 61,
     "metadata": {},
     "output_type": "execute_result"
    }
   ],
   "source": [
    "df['education'].value_counts()"
   ]
  },
  {
   "cell_type": "code",
   "execution_count": 62,
   "id": "aae9997f",
   "metadata": {},
   "outputs": [],
   "source": [
    "df.loc[df['education']==\"06-Oct\", 'education'] = 0\n",
    "df.loc[df['education']==\"11-Dec\", 'education'] = 1\n",
    "df.loc[df['education']==\"Diploma holder\", 'education'] = 2\n",
    "df.loc[df['education']==\"Some college\", 'education'] = 3\n",
    "df.loc[df['education']==\"College degree holder\", 'education'] = 4"
   ]
  },
  {
   "cell_type": "code",
   "execution_count": 63,
   "id": "d5a511cd",
   "metadata": {},
   "outputs": [
    {
     "data": {
      "text/plain": [
       "0    32000\n",
       "1    18000\n",
       "4     7000\n",
       "2     3000\n",
       "3     3000\n",
       "Name: education, dtype: int64"
      ]
     },
     "execution_count": 63,
     "metadata": {},
     "output_type": "execute_result"
    }
   ],
   "source": [
    "df['education'].value_counts()"
   ]
  },
  {
   "cell_type": "code",
   "execution_count": 64,
   "id": "6d6902fd",
   "metadata": {},
   "outputs": [
    {
     "data": {
      "text/plain": [
       "No     46000\n",
       "Yes    17000\n",
       "Name: head_family, dtype: int64"
      ]
     },
     "execution_count": 64,
     "metadata": {},
     "output_type": "execute_result"
    }
   ],
   "source": [
    "df['head_family'].value_counts()"
   ]
  },
  {
   "cell_type": "code",
   "execution_count": 65,
   "id": "fff72ac0",
   "metadata": {},
   "outputs": [],
   "source": [
    "df.loc[df['head_family']=='No','head_family'] = 0\n",
    "df.loc[df['head_family']=='Yes','head_family'] = 1"
   ]
  },
  {
   "cell_type": "code",
   "execution_count": 66,
   "id": "b1e5bada",
   "metadata": {},
   "outputs": [
    {
     "data": {
      "text/plain": [
       "5000 - 10000     27000\n",
       "10000 - 15000    16000\n",
       "5000 and less    10000\n",
       "15000 - 20000     6000\n",
       "20000 - 25000     4000\n",
       "Name: monthly_income, dtype: int64"
      ]
     },
     "execution_count": 66,
     "metadata": {},
     "output_type": "execute_result"
    }
   ],
   "source": [
    "df['monthly_income'].value_counts()"
   ]
  },
  {
   "cell_type": "code",
   "execution_count": 67,
   "id": "7fc9aef2",
   "metadata": {},
   "outputs": [],
   "source": [
    "df.loc[df['monthly_income'] == '5000 - 10000', 'monthly_income'] = 1\n",
    "df.loc[df['monthly_income'] == '10000 - 15000', 'monthly_income'] = 2\n",
    "df.loc[df['monthly_income'] == '5000 and less', 'monthly_income'] = 0\n",
    "df.loc[df['monthly_income'] == '15000 - 20000', 'monthly_income'] = 3\n",
    "df.loc[df['monthly_income'] == '20000 - 25000', 'monthly_income'] = 4"
   ]
  },
  {
   "cell_type": "code",
   "execution_count": 69,
   "id": "a68d017d",
   "metadata": {},
   "outputs": [
    {
     "data": {
      "text/plain": [
       "End of the month       25000\n",
       "Start of the month     19000\n",
       "Middle of the month    19000\n",
       "Name: bills_date, dtype: int64"
      ]
     },
     "execution_count": 69,
     "metadata": {},
     "output_type": "execute_result"
    }
   ],
   "source": [
    "df['bills_date'].value_counts()"
   ]
  },
  {
   "cell_type": "code",
   "execution_count": 70,
   "id": "145b3e9a",
   "metadata": {},
   "outputs": [],
   "source": [
    "df.loc[df['bills_date']==\"End of the month\", 'bills_date'] = 0\n",
    "df.loc[df['bills_date']==\"Start of the month\", 'bills_date'] = 2\n",
    "df.loc[df['bills_date']==\"Middle of the month\", 'bills_date'] = 1"
   ]
  },
  {
   "cell_type": "code",
   "execution_count": 71,
   "id": "582b3bba",
   "metadata": {},
   "outputs": [
    {
     "data": {
      "text/plain": [
       "No     46000\n",
       "Yes    17000\n",
       "Name: only_earning, dtype: int64"
      ]
     },
     "execution_count": 71,
     "metadata": {},
     "output_type": "execute_result"
    }
   ],
   "source": [
    "df['only_earning'].value_counts()"
   ]
  },
  {
   "cell_type": "code",
   "execution_count": 72,
   "id": "dea36cd5",
   "metadata": {},
   "outputs": [],
   "source": [
    "df.loc[df['only_earning'] == \"No\", 'only_earning'] = 0\n",
    "df.loc[df['only_earning'] == \"Yes\", 'only_earning'] = 1"
   ]
  },
  {
   "cell_type": "code",
   "execution_count": 73,
   "id": "e65333f5",
   "metadata": {},
   "outputs": [
    {
     "data": {
      "text/plain": [
       "Light bill    38000\n",
       "Gas bill      24000\n",
       "Groceries      1000\n",
       "Name: fluctuating_expense, dtype: int64"
      ]
     },
     "execution_count": 73,
     "metadata": {},
     "output_type": "execute_result"
    }
   ],
   "source": [
    "df['fluctuating_expense'].value_counts()"
   ]
  },
  {
   "cell_type": "code",
   "execution_count": 74,
   "id": "63db06cf",
   "metadata": {},
   "outputs": [],
   "source": [
    "df.loc[df['fluctuating_expense']==\"Gas bill\",'fluctuating_expense'] = 0\n",
    "df.loc[df['fluctuating_expense']==\"Light bill\",'fluctuating_expense'] = 1\n",
    "df.loc[df['fluctuating_expense']==\"Groceries\",'fluctuating_expense'] = 2"
   ]
  },
  {
   "cell_type": "code",
   "execution_count": null,
   "id": "b5c37ee9",
   "metadata": {},
   "outputs": [],
   "source": []
  },
  {
   "cell_type": "code",
   "execution_count": 75,
   "id": "9bb623b8",
   "metadata": {},
   "outputs": [
    {
     "data": {
      "text/plain": [
       "Male      33000\n",
       "Female    30000\n",
       "Name: sex, dtype: int64"
      ]
     },
     "execution_count": 75,
     "metadata": {},
     "output_type": "execute_result"
    }
   ],
   "source": [
    "df['sex'].value_counts()"
   ]
  },
  {
   "cell_type": "code",
   "execution_count": 76,
   "id": "e2bafa06",
   "metadata": {},
   "outputs": [],
   "source": [
    "df.loc[df['sex'] == \"Female\", 'sex'] = 0\n",
    "df.loc[df['sex'] == \"Male\", 'sex'] = 1"
   ]
  },
  {
   "cell_type": "code",
   "execution_count": 77,
   "id": "654422cd",
   "metadata": {},
   "outputs": [],
   "source": [
    "df['date_of_exp'] = 0\n",
    "df.loc[(df['subject_id'] >= 101) & (df['subject_id'] <= 114), 'date_of_exp'] = 25\n",
    "df.loc[(df['subject_id'] >= 115) & (df['subject_id'] <= 130), 'date_of_exp'] = 26\n",
    "df.loc[(df['subject_id'] >= 201) & (df['subject_id'] <= 216), 'date_of_exp'] = 15\n",
    "df.loc[(df['subject_id'] >= 217) & (df['subject_id'] <= 222), 'date_of_exp'] = 16\n",
    "df.loc[(df['subject_id'] >= 223) & (df['subject_id'] <= 233), 'date_of_exp'] = 17"
   ]
  },
  {
   "cell_type": "code",
   "execution_count": 78,
   "id": "02257eef",
   "metadata": {},
   "outputs": [
    {
     "data": {
      "text/html": [
       "<div>\n",
       "<style scoped>\n",
       "    .dataframe tbody tr th:only-of-type {\n",
       "        vertical-align: middle;\n",
       "    }\n",
       "\n",
       "    .dataframe tbody tr th {\n",
       "        vertical-align: top;\n",
       "    }\n",
       "\n",
       "    .dataframe thead th {\n",
       "        text-align: right;\n",
       "    }\n",
       "</style>\n",
       "<table border=\"1\" class=\"dataframe\">\n",
       "  <thead>\n",
       "    <tr style=\"text-align: right;\">\n",
       "      <th></th>\n",
       "      <th>Unnamed: 0</th>\n",
       "      <th>roundNo</th>\n",
       "      <th>screenTime</th>\n",
       "      <th>sliderValue</th>\n",
       "      <th>currHiddenProb</th>\n",
       "      <th>currRingColor</th>\n",
       "      <th>nextHiddenProb</th>\n",
       "      <th>nextRingColor</th>\n",
       "      <th>cumlativeScore</th>\n",
       "      <th>changedInScore</th>\n",
       "      <th>...</th>\n",
       "      <th>education</th>\n",
       "      <th>only_earning</th>\n",
       "      <th>head_family</th>\n",
       "      <th>no_people</th>\n",
       "      <th>monthly_income</th>\n",
       "      <th>salary_date</th>\n",
       "      <th>bills_date</th>\n",
       "      <th>fluctuating_expense</th>\n",
       "      <th>fluctuating_date</th>\n",
       "      <th>date_of_exp</th>\n",
       "    </tr>\n",
       "  </thead>\n",
       "  <tbody>\n",
       "    <tr>\n",
       "      <th>0</th>\n",
       "      <td>0</td>\n",
       "      <td>1</td>\n",
       "      <td>18.647</td>\n",
       "      <td>50.0</td>\n",
       "      <td>0.14</td>\n",
       "      <td>0</td>\n",
       "      <td>0.14</td>\n",
       "      <td>1</td>\n",
       "      <td>0.75</td>\n",
       "      <td>0.75</td>\n",
       "      <td>...</td>\n",
       "      <td>0</td>\n",
       "      <td>0</td>\n",
       "      <td>0</td>\n",
       "      <td>5</td>\n",
       "      <td>1</td>\n",
       "      <td>5</td>\n",
       "      <td>0</td>\n",
       "      <td>0</td>\n",
       "      <td>30</td>\n",
       "      <td>25</td>\n",
       "    </tr>\n",
       "    <tr>\n",
       "      <th>1</th>\n",
       "      <td>1</td>\n",
       "      <td>2</td>\n",
       "      <td>6.284</td>\n",
       "      <td>50.0</td>\n",
       "      <td>0.14</td>\n",
       "      <td>1</td>\n",
       "      <td>0.14</td>\n",
       "      <td>0</td>\n",
       "      <td>1.50</td>\n",
       "      <td>0.75</td>\n",
       "      <td>...</td>\n",
       "      <td>0</td>\n",
       "      <td>0</td>\n",
       "      <td>0</td>\n",
       "      <td>5</td>\n",
       "      <td>1</td>\n",
       "      <td>5</td>\n",
       "      <td>0</td>\n",
       "      <td>0</td>\n",
       "      <td>30</td>\n",
       "      <td>25</td>\n",
       "    </tr>\n",
       "    <tr>\n",
       "      <th>2</th>\n",
       "      <td>2</td>\n",
       "      <td>3</td>\n",
       "      <td>1.786</td>\n",
       "      <td>50.0</td>\n",
       "      <td>0.14</td>\n",
       "      <td>0</td>\n",
       "      <td>0.14</td>\n",
       "      <td>0</td>\n",
       "      <td>2.25</td>\n",
       "      <td>0.75</td>\n",
       "      <td>...</td>\n",
       "      <td>0</td>\n",
       "      <td>0</td>\n",
       "      <td>0</td>\n",
       "      <td>5</td>\n",
       "      <td>1</td>\n",
       "      <td>5</td>\n",
       "      <td>0</td>\n",
       "      <td>0</td>\n",
       "      <td>30</td>\n",
       "      <td>25</td>\n",
       "    </tr>\n",
       "    <tr>\n",
       "      <th>3</th>\n",
       "      <td>3</td>\n",
       "      <td>4</td>\n",
       "      <td>4.200</td>\n",
       "      <td>50.0</td>\n",
       "      <td>0.14</td>\n",
       "      <td>0</td>\n",
       "      <td>0.14</td>\n",
       "      <td>1</td>\n",
       "      <td>3.00</td>\n",
       "      <td>0.75</td>\n",
       "      <td>...</td>\n",
       "      <td>0</td>\n",
       "      <td>0</td>\n",
       "      <td>0</td>\n",
       "      <td>5</td>\n",
       "      <td>1</td>\n",
       "      <td>5</td>\n",
       "      <td>0</td>\n",
       "      <td>0</td>\n",
       "      <td>30</td>\n",
       "      <td>25</td>\n",
       "    </tr>\n",
       "    <tr>\n",
       "      <th>4</th>\n",
       "      <td>4</td>\n",
       "      <td>5</td>\n",
       "      <td>5.979</td>\n",
       "      <td>50.0</td>\n",
       "      <td>0.14</td>\n",
       "      <td>1</td>\n",
       "      <td>0.14</td>\n",
       "      <td>0</td>\n",
       "      <td>3.75</td>\n",
       "      <td>0.75</td>\n",
       "      <td>...</td>\n",
       "      <td>0</td>\n",
       "      <td>0</td>\n",
       "      <td>0</td>\n",
       "      <td>5</td>\n",
       "      <td>1</td>\n",
       "      <td>5</td>\n",
       "      <td>0</td>\n",
       "      <td>0</td>\n",
       "      <td>30</td>\n",
       "      <td>25</td>\n",
       "    </tr>\n",
       "    <tr>\n",
       "      <th>5</th>\n",
       "      <td>5</td>\n",
       "      <td>6</td>\n",
       "      <td>3.568</td>\n",
       "      <td>50.0</td>\n",
       "      <td>0.14</td>\n",
       "      <td>0</td>\n",
       "      <td>0.14</td>\n",
       "      <td>0</td>\n",
       "      <td>4.50</td>\n",
       "      <td>0.75</td>\n",
       "      <td>...</td>\n",
       "      <td>0</td>\n",
       "      <td>0</td>\n",
       "      <td>0</td>\n",
       "      <td>5</td>\n",
       "      <td>1</td>\n",
       "      <td>5</td>\n",
       "      <td>0</td>\n",
       "      <td>0</td>\n",
       "      <td>30</td>\n",
       "      <td>25</td>\n",
       "    </tr>\n",
       "    <tr>\n",
       "      <th>6</th>\n",
       "      <td>6</td>\n",
       "      <td>7</td>\n",
       "      <td>4.872</td>\n",
       "      <td>50.0</td>\n",
       "      <td>0.14</td>\n",
       "      <td>0</td>\n",
       "      <td>0.14</td>\n",
       "      <td>0</td>\n",
       "      <td>5.25</td>\n",
       "      <td>0.75</td>\n",
       "      <td>...</td>\n",
       "      <td>0</td>\n",
       "      <td>0</td>\n",
       "      <td>0</td>\n",
       "      <td>5</td>\n",
       "      <td>1</td>\n",
       "      <td>5</td>\n",
       "      <td>0</td>\n",
       "      <td>0</td>\n",
       "      <td>30</td>\n",
       "      <td>25</td>\n",
       "    </tr>\n",
       "    <tr>\n",
       "      <th>7</th>\n",
       "      <td>7</td>\n",
       "      <td>8</td>\n",
       "      <td>4.653</td>\n",
       "      <td>50.0</td>\n",
       "      <td>0.14</td>\n",
       "      <td>0</td>\n",
       "      <td>0.14</td>\n",
       "      <td>0</td>\n",
       "      <td>6.00</td>\n",
       "      <td>0.75</td>\n",
       "      <td>...</td>\n",
       "      <td>0</td>\n",
       "      <td>0</td>\n",
       "      <td>0</td>\n",
       "      <td>5</td>\n",
       "      <td>1</td>\n",
       "      <td>5</td>\n",
       "      <td>0</td>\n",
       "      <td>0</td>\n",
       "      <td>30</td>\n",
       "      <td>25</td>\n",
       "    </tr>\n",
       "    <tr>\n",
       "      <th>8</th>\n",
       "      <td>8</td>\n",
       "      <td>9</td>\n",
       "      <td>1.252</td>\n",
       "      <td>50.0</td>\n",
       "      <td>0.14</td>\n",
       "      <td>0</td>\n",
       "      <td>0.14</td>\n",
       "      <td>0</td>\n",
       "      <td>6.75</td>\n",
       "      <td>0.75</td>\n",
       "      <td>...</td>\n",
       "      <td>0</td>\n",
       "      <td>0</td>\n",
       "      <td>0</td>\n",
       "      <td>5</td>\n",
       "      <td>1</td>\n",
       "      <td>5</td>\n",
       "      <td>0</td>\n",
       "      <td>0</td>\n",
       "      <td>30</td>\n",
       "      <td>25</td>\n",
       "    </tr>\n",
       "    <tr>\n",
       "      <th>9</th>\n",
       "      <td>9</td>\n",
       "      <td>10</td>\n",
       "      <td>3.902</td>\n",
       "      <td>50.0</td>\n",
       "      <td>0.14</td>\n",
       "      <td>0</td>\n",
       "      <td>0.14</td>\n",
       "      <td>0</td>\n",
       "      <td>7.50</td>\n",
       "      <td>0.75</td>\n",
       "      <td>...</td>\n",
       "      <td>0</td>\n",
       "      <td>0</td>\n",
       "      <td>0</td>\n",
       "      <td>5</td>\n",
       "      <td>1</td>\n",
       "      <td>5</td>\n",
       "      <td>0</td>\n",
       "      <td>0</td>\n",
       "      <td>30</td>\n",
       "      <td>25</td>\n",
       "    </tr>\n",
       "  </tbody>\n",
       "</table>\n",
       "<p>10 rows × 25 columns</p>\n",
       "</div>"
      ],
      "text/plain": [
       "   Unnamed: 0  roundNo  screenTime  sliderValue  currHiddenProb  \\\n",
       "0           0        1      18.647         50.0            0.14   \n",
       "1           1        2       6.284         50.0            0.14   \n",
       "2           2        3       1.786         50.0            0.14   \n",
       "3           3        4       4.200         50.0            0.14   \n",
       "4           4        5       5.979         50.0            0.14   \n",
       "5           5        6       3.568         50.0            0.14   \n",
       "6           6        7       4.872         50.0            0.14   \n",
       "7           7        8       4.653         50.0            0.14   \n",
       "8           8        9       1.252         50.0            0.14   \n",
       "9           9       10       3.902         50.0            0.14   \n",
       "\n",
       "   currRingColor  nextHiddenProb  nextRingColor  cumlativeScore  \\\n",
       "0              0            0.14              1            0.75   \n",
       "1              1            0.14              0            1.50   \n",
       "2              0            0.14              0            2.25   \n",
       "3              0            0.14              1            3.00   \n",
       "4              1            0.14              0            3.75   \n",
       "5              0            0.14              0            4.50   \n",
       "6              0            0.14              0            5.25   \n",
       "7              0            0.14              0            6.00   \n",
       "8              0            0.14              0            6.75   \n",
       "9              0            0.14              0            7.50   \n",
       "\n",
       "   changedInScore  ...  education  only_earning head_family  no_people  \\\n",
       "0            0.75  ...          0             0           0          5   \n",
       "1            0.75  ...          0             0           0          5   \n",
       "2            0.75  ...          0             0           0          5   \n",
       "3            0.75  ...          0             0           0          5   \n",
       "4            0.75  ...          0             0           0          5   \n",
       "5            0.75  ...          0             0           0          5   \n",
       "6            0.75  ...          0             0           0          5   \n",
       "7            0.75  ...          0             0           0          5   \n",
       "8            0.75  ...          0             0           0          5   \n",
       "9            0.75  ...          0             0           0          5   \n",
       "\n",
       "  monthly_income salary_date bills_date fluctuating_expense  fluctuating_date  \\\n",
       "0              1           5          0                   0                30   \n",
       "1              1           5          0                   0                30   \n",
       "2              1           5          0                   0                30   \n",
       "3              1           5          0                   0                30   \n",
       "4              1           5          0                   0                30   \n",
       "5              1           5          0                   0                30   \n",
       "6              1           5          0                   0                30   \n",
       "7              1           5          0                   0                30   \n",
       "8              1           5          0                   0                30   \n",
       "9              1           5          0                   0                30   \n",
       "\n",
       "  date_of_exp  \n",
       "0          25  \n",
       "1          25  \n",
       "2          25  \n",
       "3          25  \n",
       "4          25  \n",
       "5          25  \n",
       "6          25  \n",
       "7          25  \n",
       "8          25  \n",
       "9          25  \n",
       "\n",
       "[10 rows x 25 columns]"
      ]
     },
     "execution_count": 78,
     "metadata": {},
     "output_type": "execute_result"
    }
   ],
   "source": [
    "df.head(10)"
   ]
  },
  {
   "cell_type": "code",
   "execution_count": 79,
   "id": "eb1d6ef6",
   "metadata": {},
   "outputs": [
    {
     "data": {
      "text/plain": [
       "Yes    37000\n",
       "No     26000\n",
       "Name: married, dtype: int64"
      ]
     },
     "execution_count": 79,
     "metadata": {},
     "output_type": "execute_result"
    }
   ],
   "source": [
    "df['married'].value_counts()"
   ]
  },
  {
   "cell_type": "code",
   "execution_count": 80,
   "id": "3e44a961",
   "metadata": {},
   "outputs": [],
   "source": [
    "df.loc[df['married']=='No','married'] = 0\n",
    "df.loc[df['married']=='Yes','married'] = 1"
   ]
  },
  {
   "cell_type": "code",
   "execution_count": 81,
   "id": "a9b2b9b9",
   "metadata": {},
   "outputs": [
    {
     "data": {
      "text/plain": [
       "0    46000\n",
       "1    17000\n",
       "Name: head_family, dtype: int64"
      ]
     },
     "execution_count": 81,
     "metadata": {},
     "output_type": "execute_result"
    }
   ],
   "source": [
    "df['head_family'].value_counts()"
   ]
  },
  {
   "cell_type": "code",
   "execution_count": 82,
   "id": "d3dc4db7",
   "metadata": {},
   "outputs": [],
   "source": [
    "df.loc[df['head_family']=='No','head_family'] = 0\n",
    "df.loc[df['head_family']=='Yes','head_family'] = 1"
   ]
  },
  {
   "cell_type": "code",
   "execution_count": 83,
   "id": "58f56fcf",
   "metadata": {},
   "outputs": [],
   "source": [
    "df.loc[df['subject_id']==201,'salary_date'] = 1\n",
    "df.loc[df['subject_id']==202,'salary_date'] = 5\n",
    "df.loc[df['subject_id']==203,'salary_date'] = 4\n",
    "df.loc[df['subject_id']==204,'salary_date'] = 10\n",
    "df.loc[df['subject_id']==205,'salary_date'] = 6\n",
    "df.loc[df['subject_id']==206,'salary_date'] = 8\n",
    "df.loc[df['subject_id']==207,'salary_date'] = 5\n",
    "df.loc[df['subject_id']==208,'salary_date'] = 10\n",
    "df.loc[df['subject_id']==209,'salary_date'] = 3\n",
    "df.loc[df['subject_id']==210,'salary_date'] = 5\n",
    "df.loc[df['subject_id']==211,'salary_date'] = 4\n",
    "df.loc[df['subject_id']==212,'salary_date'] = 1\n",
    "df.loc[df['subject_id']==213,'salary_date'] = 7\n",
    "df.loc[df['subject_id']==214,'salary_date'] = 2\n",
    "df.loc[df['subject_id']==215,'salary_date'] = 10\n",
    "df.loc[df['subject_id']==216,'salary_date'] = 5"
   ]
  },
  {
   "cell_type": "code",
   "execution_count": 85,
   "id": "9d9dabce",
   "metadata": {},
   "outputs": [],
   "source": [
    "df.to_csv('master_data.csv')\n",
    "\n",
    "#I'm deleting some extra columns -- like language- marathi and employed or not, computer use - yes or no"
   ]
  },
  {
   "cell_type": "markdown",
   "id": "31c51f8a",
   "metadata": {},
   "source": [
    "### redoing the figures to figure out which subject ids should be eliminated in the new labeling scheme ##"
   ]
  },
  {
   "cell_type": "code",
   "execution_count": 1,
   "id": "7d3a2ad8",
   "metadata": {},
   "outputs": [],
   "source": [
    "import pandas as pd\n",
    "import seaborn as sns\n",
    "import matplotlib.pyplot as plt"
   ]
  },
  {
   "cell_type": "code",
   "execution_count": 2,
   "id": "9b3a4e67",
   "metadata": {},
   "outputs": [],
   "source": [
    "df = pd.read_csv('master_data.csv')"
   ]
  },
  {
   "cell_type": "code",
   "execution_count": 3,
   "id": "e60b5bad",
   "metadata": {},
   "outputs": [],
   "source": [
    "df['sliderValue100'] = df['sliderValue']/100"
   ]
  },
  {
   "cell_type": "code",
   "execution_count": 4,
   "id": "62d26dca",
   "metadata": {},
   "outputs": [
    {
     "data": {
      "text/plain": [
       "<Figure size 432x288 with 0 Axes>"
      ]
     },
     "metadata": {},
     "output_type": "display_data"
    }
   ],
   "source": [
    "for i in range(101,234):\n",
    "    df_temp = df[df['subject_id']==i]\n",
    "    sns.lineplot(x=\"roundNo\", y=\"sliderValue100\", label='slider value', data=df_temp)\n",
    "    sns.lineplot(x=\"roundNo\", y=\"currHiddenProb\", label='hidden prob', data=df_temp)\n",
    "    plt.savefig('plot'+str(i)+'.png')\n",
    "    plt.clf()\n",
    "    del df_temp"
   ]
  },
  {
   "cell_type": "markdown",
   "id": "f80c79f2",
   "metadata": {},
   "source": [
    "### commence analysis ###"
   ]
  },
  {
   "cell_type": "code",
   "execution_count": 3,
   "id": "6b6dd317",
   "metadata": {},
   "outputs": [],
   "source": [
    "import pandas as pd"
   ]
  },
  {
   "cell_type": "code",
   "execution_count": 4,
   "id": "00951a6c",
   "metadata": {},
   "outputs": [],
   "source": [
    "df = pd.read_csv('master_data.csv')"
   ]
  },
  {
   "cell_type": "code",
   "execution_count": 87,
   "id": "bb410b42",
   "metadata": {},
   "outputs": [
    {
     "data": {
      "text/plain": [
       "(63000, 25)"
      ]
     },
     "execution_count": 87,
     "metadata": {},
     "output_type": "execute_result"
    }
   ],
   "source": [
    "df.shape"
   ]
  },
  {
   "cell_type": "code",
   "execution_count": 6,
   "id": "dcfe73de",
   "metadata": {},
   "outputs": [],
   "source": [
    "#balance checks"
   ]
  },
  {
   "cell_type": "code",
   "execution_count": 90,
   "id": "b826a086",
   "metadata": {},
   "outputs": [
    {
     "name": "stdout",
     "output_type": "stream",
     "text": [
      "0.5532109185761153 0.5821409305602689\n"
     ]
    }
   ],
   "source": [
    "critval, pval = ttest_ind(cat1['age'], cat2['age'])\n",
    "print(critval,pval)"
   ]
  },
  {
   "cell_type": "code",
   "execution_count": 91,
   "id": "3d3adb7e",
   "metadata": {},
   "outputs": [
    {
     "name": "stdout",
     "output_type": "stream",
     "text": [
      "-1.5404836604861631 0.12861438783411172\n"
     ]
    }
   ],
   "source": [
    "critval, pval = ttest_ind(cat1['fluctuating_date'], cat2['fluctuating_date'])\n",
    "print(critval,pval)"
   ]
  },
  {
   "cell_type": "code",
   "execution_count": 92,
   "id": "ab4597d5",
   "metadata": {},
   "outputs": [
    {
     "name": "stdout",
     "output_type": "stream",
     "text": [
      "3.4226711265623475 0.0011128899785343032\n"
     ]
    }
   ],
   "source": [
    "critval, pval = ttest_ind(cat1['salary_date'], cat2['salary_date'])\n",
    "print(critval,pval)\n",
    "\n",
    "#imbalance detected"
   ]
  },
  {
   "cell_type": "code",
   "execution_count": 93,
   "id": "cd1da3ae",
   "metadata": {},
   "outputs": [
    {
     "name": "stdout",
     "output_type": "stream",
     "text": [
      "0.4172436679217591 0.6779650405585529\n"
     ]
    }
   ],
   "source": [
    "critval, pval = ttest_ind(cat1['no_people'], cat2['no_people'])\n",
    "print(critval,pval)"
   ]
  },
  {
   "cell_type": "code",
   "execution_count": 95,
   "id": "ad29bd41",
   "metadata": {},
   "outputs": [
    {
     "name": "stdout",
     "output_type": "stream",
     "text": [
      "0.9064005455733095\n"
     ]
    }
   ],
   "source": [
    "from scipy.stats import chi2_contingency\n",
    "\n",
    "anal1 = pd.crosstab(df['trt_type'],df['bills_date'],normalize=\"index\")\n",
    "\n",
    "# Chi-square test of independence. \n",
    "c, p, dof, expected = chi2_contingency(anal1) \n",
    "# Print the p-value\n",
    "print(p)"
   ]
  },
  {
   "cell_type": "code",
   "execution_count": 96,
   "id": "55d20574",
   "metadata": {},
   "outputs": [
    {
     "name": "stdout",
     "output_type": "stream",
     "text": [
      "0.969867501502026\n"
     ]
    }
   ],
   "source": [
    "anal1 = pd.crosstab(df['trt_type'],df['fluctuating_expense'],normalize=\"index\")\n",
    "\n",
    "# Chi-square test of independence. \n",
    "c, p, dof, expected = chi2_contingency(anal1) \n",
    "# Print the p-value\n",
    "print(p)"
   ]
  },
  {
   "cell_type": "code",
   "execution_count": 97,
   "id": "1f12b6ac",
   "metadata": {},
   "outputs": [
    {
     "name": "stdout",
     "output_type": "stream",
     "text": [
      "0.19352159957999826\n"
     ]
    }
   ],
   "source": [
    "anal1 = pd.crosstab(df['trt_type'],df['sex'],normalize=\"index\")\n",
    "\n",
    "# Chi-square test of independence. \n",
    "c, p, dof, expected = chi2_contingency(anal1) \n",
    "# Print the p-value\n",
    "print(p)"
   ]
  },
  {
   "cell_type": "code",
   "execution_count": 98,
   "id": "7580b142",
   "metadata": {},
   "outputs": [
    {
     "name": "stdout",
     "output_type": "stream",
     "text": [
      "0.9987608680947362\n"
     ]
    }
   ],
   "source": [
    "anal1 = pd.crosstab(df['trt_type'],df['education'],normalize=\"index\")\n",
    "\n",
    "# Chi-square test of independence. \n",
    "c, p, dof, expected = chi2_contingency(anal1) \n",
    "# Print the p-value\n",
    "print(p)"
   ]
  },
  {
   "cell_type": "code",
   "execution_count": 99,
   "id": "0fce6540",
   "metadata": {},
   "outputs": [
    {
     "name": "stdout",
     "output_type": "stream",
     "text": [
      "0.995363115292835\n"
     ]
    }
   ],
   "source": [
    "anal1 = pd.crosstab(df['trt_type'],df['monthly_income'],normalize=\"index\")\n",
    "\n",
    "# Chi-square test of independence. \n",
    "c, p, dof, expected = chi2_contingency(anal1) \n",
    "# Print the p-value\n",
    "print(p)"
   ]
  },
  {
   "cell_type": "code",
   "execution_count": 100,
   "id": "b3b9b256",
   "metadata": {},
   "outputs": [
    {
     "name": "stdout",
     "output_type": "stream",
     "text": [
      "0.1629364998446533\n"
     ]
    }
   ],
   "source": [
    "anal1 = pd.crosstab(df['trt_type'],df['head_family'],normalize=\"index\")\n",
    "\n",
    "# Chi-square test of independence. \n",
    "c, p, dof, expected = chi2_contingency(anal1) \n",
    "# Print the p-value\n",
    "print(p)"
   ]
  },
  {
   "cell_type": "code",
   "execution_count": 101,
   "id": "4775e654",
   "metadata": {},
   "outputs": [
    {
     "name": "stdout",
     "output_type": "stream",
     "text": [
      "0.19635949352851162\n"
     ]
    }
   ],
   "source": [
    "anal1 = pd.crosstab(df['trt_type'],df['only_earning'],normalize=\"index\")\n",
    "\n",
    "# Chi-square test of independence. \n",
    "c, p, dof, expected = chi2_contingency(anal1) \n",
    "# Print the p-value\n",
    "print(p)"
   ]
  },
  {
   "cell_type": "code",
   "execution_count": null,
   "id": "f39d4afa",
   "metadata": {},
   "outputs": [],
   "source": [
    "#describing it "
   ]
  },
  {
   "cell_type": "code",
   "execution_count": 140,
   "id": "ff85b42d",
   "metadata": {},
   "outputs": [],
   "source": [
    "df_balancecheck = df_original[['trt_type','age','sex','education','monthly_income','salary_date','fluctuating_date','only_earning','fluctuating_expense']]\n",
    "\n",
    "df_balancecheck = df_balancecheck.groupby(['trt_type']).describe(include='all')"
   ]
  },
  {
   "cell_type": "code",
   "execution_count": 144,
   "id": "a0507337",
   "metadata": {},
   "outputs": [],
   "source": [
    "df_balancecheck.to_csv('balance_check.csv')"
   ]
  },
  {
   "cell_type": "code",
   "execution_count": null,
   "id": "474e5e76",
   "metadata": {
    "collapsed": true
   },
   "outputs": [],
   "source": [
    "#t-test"
   ]
  },
  {
   "cell_type": "code",
   "execution_count": null,
   "id": "ba8176d0",
   "metadata": {},
   "outputs": [],
   "source": [
    "df['diff'] = df['sliderValue'] - df['CurrHiddenProb']"
   ]
  },
  {
   "cell_type": "code",
   "execution_count": null,
   "id": "ca0b72b3",
   "metadata": {},
   "outputs": [],
   "source": [
    "df_temp = df.groupby('subject_id').mean()\n",
    "df_temp.reset_index()\n",
    "\n",
    "from scipy.stats import ttest_ind\n",
    "\n",
    "cat1 = df_temp[df_temp['trt_type']==0]\n",
    "cat2 = df_temp[df_temp['trt_type']==1]\n",
    "              \n",
    "critval, pval = ttest_ind(cat1['diff'], cat2['diff'])\n",
    "\n",
    "print(critval,pval)"
   ]
  },
  {
   "cell_type": "code",
   "execution_count": null,
   "id": "b4e16e1a",
   "metadata": {},
   "outputs": [],
   "source": [
    "# phase 1 - subjects 7, 18, 23, 25 and 27\n",
    "# phase 2 - subject 1, 3, 7, 14, 21 and 31"
   ]
  },
  {
   "cell_type": "code",
   "execution_count": 128,
   "id": "c4389dc2",
   "metadata": {},
   "outputs": [],
   "source": [
    "df_refined = df[(df['subject_id'] != 107) & (df['subject_id'] != 118) & (df['subject_id'] != 123) & (df['subject_id'] != 125)\n",
    "               & (df['subject_id'] != 127) & (df['subject_id'] != 201) & (df['subject_id'] != 203) & (df['subject_id'] != 207)\n",
    "               & (df['subject_id'] != 214) & (df['subject_id'] != 221) & (df['subject_id'] != 231)]"
   ]
  },
  {
   "cell_type": "code",
   "execution_count": 103,
   "id": "28f06375",
   "metadata": {},
   "outputs": [
    {
     "name": "stdout",
     "output_type": "stream",
     "text": [
      "-0.731777495327348 0.4677205177730249\n"
     ]
    }
   ],
   "source": [
    "df_temp = df_refined.groupby('subject_id').mean()\n",
    "df_temp.reset_index()\n",
    "\n",
    "from scipy.stats import ttest_ind\n",
    "\n",
    "cat1 = df_temp[df_temp['trt_type']==0]\n",
    "cat2 = df_temp[df_temp['trt_type']==1]\n",
    "              \n",
    "critval, pval = ttest_ind(cat1['diff'], cat2['diff'])\n",
    "\n",
    "print(critval,pval)"
   ]
  },
  {
   "cell_type": "code",
   "execution_count": 15,
   "id": "75dbc28d",
   "metadata": {},
   "outputs": [],
   "source": [
    "df_refined.to_csv('master_data_refined.csv')"
   ]
  },
  {
   "cell_type": "code",
   "execution_count": 8,
   "id": "2afebdad",
   "metadata": {},
   "outputs": [],
   "source": [
    "#creating subject factors \n",
    "\n",
    "df = pd.concat([df,pd.get_dummies(df['subject_id'],prefix='s_id',drop_first=True)],axis=1)"
   ]
  },
  {
   "cell_type": "code",
   "execution_count": 10,
   "id": "b01dea0d",
   "metadata": {},
   "outputs": [
    {
     "data": {
      "text/plain": [
       "Index(['Unnamed: 0', 'Unnamed: 0.1', 'Unnamed: 0.1.1', 'Unnamed: 0.1.1.1',\n",
       "       'Unnamed: 0.1.1.1.1', 'roundNo', 'screenTime', 'sliderValue',\n",
       "       'currHiddenProb', 'currRingColor', 'nextHiddenProb', 'nextRingColor',\n",
       "       'cumlativeScore', 'changedInScore', 'subject_id', 'trt_type', 'sex',\n",
       "       'age', 'married', 'education', 'only_earning', 'head_family',\n",
       "       'no_people', 'monthly_income', 'salary_date', 'bills_date',\n",
       "       'fluctuating_expense', 'fluctuating_date', 'date_of_exp', 'diff',\n",
       "       'total_screentime', 'total_screentime_min', 'diff_raw', 'dy-dx',\n",
       "       'redRingColor', 'previousRingColor', 'bdist', 'sdist', 's_id_102',\n",
       "       's_id_103', 's_id_104', 's_id_105', 's_id_106', 's_id_107', 's_id_108',\n",
       "       's_id_109', 's_id_110', 's_id_111', 's_id_112', 's_id_113', 's_id_114',\n",
       "       's_id_115', 's_id_116', 's_id_117', 's_id_118', 's_id_119', 's_id_120',\n",
       "       's_id_121', 's_id_122', 's_id_123', 's_id_124', 's_id_125', 's_id_126',\n",
       "       's_id_127', 's_id_128', 's_id_129', 's_id_130', 's_id_201', 's_id_202',\n",
       "       's_id_203', 's_id_204', 's_id_205', 's_id_206', 's_id_207', 's_id_208',\n",
       "       's_id_209', 's_id_210', 's_id_211', 's_id_212', 's_id_213', 's_id_214',\n",
       "       's_id_215', 's_id_216', 's_id_217', 's_id_218', 's_id_219', 's_id_220',\n",
       "       's_id_221', 's_id_222', 's_id_223', 's_id_224', 's_id_225', 's_id_226',\n",
       "       's_id_227', 's_id_228', 's_id_229', 's_id_230', 's_id_231', 's_id_232',\n",
       "       's_id_233'],\n",
       "      dtype='object')"
      ]
     },
     "execution_count": 10,
     "metadata": {},
     "output_type": "execute_result"
    }
   ],
   "source": [
    "df.columns"
   ]
  },
  {
   "cell_type": "code",
   "execution_count": 12,
   "id": "4c020594",
   "metadata": {},
   "outputs": [],
   "source": [
    "df_refined = pd.read_csv('master_data_refined.csv')"
   ]
  },
  {
   "cell_type": "code",
   "execution_count": 13,
   "id": "0a5e37b9",
   "metadata": {},
   "outputs": [],
   "source": [
    "df_refined = pd.concat([df_refined,pd.get_dummies(df_refined['subject_id'],prefix='s_id',drop_first=True)],axis=1)"
   ]
  },
  {
   "cell_type": "code",
   "execution_count": 14,
   "id": "fb124849",
   "metadata": {},
   "outputs": [
    {
     "data": {
      "text/plain": [
       "Index(['Unnamed: 0', 'Unnamed: 0.1', 'roundNo', 'screenTime', 'sliderValue',\n",
       "       'currHiddenProb', 'currRingColor', 'nextHiddenProb', 'nextRingColor',\n",
       "       'cumlativeScore', 'changedInScore', 'subject_id', 'trt_type', 'sex',\n",
       "       'age', 'married', 'education', 'only_earning', 'head_family',\n",
       "       'no_people', 'monthly_income', 'salary_date', 'bills_date',\n",
       "       'fluctuating_expense', 'fluctuating_date', 'date_of_exp', 'diff',\n",
       "       'total_screentime', 'total_screentime_min', 'redRingColor', 'dy-dx',\n",
       "       'bdist', 'sdist', 's_id_102', 's_id_103', 's_id_104', 's_id_105',\n",
       "       's_id_106', 's_id_108', 's_id_109', 's_id_110', 's_id_111', 's_id_112',\n",
       "       's_id_113', 's_id_114', 's_id_115', 's_id_116', 's_id_117', 's_id_119',\n",
       "       's_id_120', 's_id_121', 's_id_122', 's_id_124', 's_id_126', 's_id_128',\n",
       "       's_id_129', 's_id_130', 's_id_202', 's_id_204', 's_id_205', 's_id_206',\n",
       "       's_id_208', 's_id_209', 's_id_210', 's_id_211', 's_id_212', 's_id_213',\n",
       "       's_id_215', 's_id_216', 's_id_217', 's_id_218', 's_id_219', 's_id_220',\n",
       "       's_id_222', 's_id_223', 's_id_224', 's_id_225', 's_id_226', 's_id_227',\n",
       "       's_id_228', 's_id_229', 's_id_230', 's_id_232', 's_id_233'],\n",
       "      dtype='object')"
      ]
     },
     "execution_count": 14,
     "metadata": {},
     "output_type": "execute_result"
    }
   ],
   "source": [
    "df_refined.columns"
   ]
  },
  {
   "cell_type": "code",
   "execution_count": 109,
   "id": "f6f080ae",
   "metadata": {},
   "outputs": [],
   "source": [
    "df['total_screentime'] = df.groupby(['subject_id'])['screenTime'].transform(sum)"
   ]
  },
  {
   "cell_type": "code",
   "execution_count": 110,
   "id": "9906685e",
   "metadata": {},
   "outputs": [
    {
     "data": {
      "text/plain": [
       "0        3982.653\n",
       "1        3982.653\n",
       "2        3982.653\n",
       "3        3982.653\n",
       "4        3982.653\n",
       "           ...   \n",
       "62995    1764.593\n",
       "62996    1764.593\n",
       "62997    1764.593\n",
       "62998    1764.593\n",
       "62999    1764.593\n",
       "Name: total_screentime, Length: 63000, dtype: float64"
      ]
     },
     "execution_count": 110,
     "metadata": {},
     "output_type": "execute_result"
    }
   ],
   "source": [
    "df['total_screentime']"
   ]
  },
  {
   "cell_type": "code",
   "execution_count": 111,
   "id": "91454877",
   "metadata": {},
   "outputs": [],
   "source": [
    "df['total_screentime_min'] = df['total_screentime']/60"
   ]
  },
  {
   "cell_type": "code",
   "execution_count": 112,
   "id": "e1d6d4b5",
   "metadata": {},
   "outputs": [
    {
     "name": "stdout",
     "output_type": "stream",
     "text": [
      "-2.1743058046193315 0.03357104770857795\n"
     ]
    }
   ],
   "source": [
    "df_temp = df.groupby('subject_id').mean()\n",
    "df_temp.reset_index()\n",
    "\n",
    "from scipy.stats import ttest_ind\n",
    "\n",
    "cat1 = df_temp[df_temp['trt_type']==0]\n",
    "cat2 = df_temp[df_temp['trt_type']==1]\n",
    "              \n",
    "critval, pval = ttest_ind(cat1['total_screentime'], cat2['total_screentime'])\n",
    "\n",
    "print(critval,pval)"
   ]
  },
  {
   "cell_type": "code",
   "execution_count": 114,
   "id": "f6e4e5a1",
   "metadata": {},
   "outputs": [
    {
     "name": "stdout",
     "output_type": "stream",
     "text": [
      "-2.5248459993987 0.014793405121005562\n"
     ]
    }
   ],
   "source": [
    "df_temp = df_refined.groupby('subject_id').mean()\n",
    "df_temp.reset_index()\n",
    "\n",
    "from scipy.stats import ttest_ind\n",
    "\n",
    "cat1 = df_temp[df_temp['trt_type']==0]\n",
    "cat2 = df_temp[df_temp['trt_type']==1]\n",
    "              \n",
    "critval, pval = ttest_ind(cat1['total_screentime'], cat2['total_screentime'])\n",
    "\n",
    "print(critval,pval)"
   ]
  },
  {
   "cell_type": "code",
   "execution_count": null,
   "id": "d29f2d02",
   "metadata": {},
   "outputs": [],
   "source": [
    "#maybe success?"
   ]
  },
  {
   "cell_type": "code",
   "execution_count": null,
   "id": "ef4e0bb9",
   "metadata": {},
   "outputs": [],
   "source": [
    "#regressions"
   ]
  },
  {
   "cell_type": "code",
   "execution_count": 147,
   "id": "c42a5d94",
   "metadata": {},
   "outputs": [],
   "source": [
    "import statsmodels.api as sm\n",
    "import statsmodels.formula.api as smf\n",
    "\n",
    "diff_original_withoutdemo =  smf.ols('diff~C(trt_type)',data=df_original).fit()\n",
    "diff_refined_withoutdemo =  smf.ols('diff~C(trt_type)',data=df_refined).fit()\n",
    "diff_original_withcontrol =  smf.ols('diff~C(trt_type)+age+C(sex)+C(education)+C(monthly_income)',data=df_original).fit()\n",
    "diff_refined_withcontrol =  smf.ols('diff~C(trt_type)+age+C(sex)+C(education)+C(monthly_income)',data=df_refined).fit()\n",
    "diff_original_withfactorsandcontrol =  smf.ols('diff~C(trt_type)+age+C(sex)+C(education)+C(monthly_income)+s_id_103+s_id_104+s_id_105+s_id_106+s_id_107+s_id_108+s_id_109+s_id_110+s_id_111+s_id_112+s_id_113+s_id_114+s_id_115+s_id_116+s_id_117+s_id_118+s_id_119+s_id_120+s_id_121+s_id_122+s_id_123+s_id_124+s_id_125+s_id_126+s_id_127+s_id_128+s_id_129+s_id_130+s_id_201+s_id_202+s_id_203+s_id_204+s_id_205+s_id_206+s_id_207+s_id_208+s_id_209+s_id_210+s_id_211+s_id_212+s_id_213+s_id_214+s_id_215+s_id_216+s_id_217+s_id_218+s_id_219+s_id_220+s_id_221+s_id_222+s_id_223+s_id_224+s_id_225+s_id_226+s_id_227+s_id_228+s_id_229+s_id_230+s_id_231+s_id_232+s_id_233',data=df_original).fit()\n",
    "diff_refined_withfactorsandcontrol =  smf.ols('diff~C(trt_type)+age+C(sex)+C(education)+C(monthly_income)+s_id_102+s_id_103+s_id_104+s_id_105+s_id_106+s_id_108+s_id_109+s_id_110+s_id_111+s_id_112+s_id_113+s_id_114+s_id_115+s_id_116+s_id_117+s_id_119+s_id_120+s_id_121+s_id_122+s_id_124+s_id_126+s_id_128+s_id_129+s_id_130+s_id_202+s_id_204+s_id_205+s_id_206+s_id_208+s_id_209+s_id_210+s_id_211+s_id_212+s_id_213+s_id_215+s_id_216+s_id_217+s_id_218+s_id_219+s_id_220+s_id_222+s_id_223+s_id_224+s_id_225+s_id_226+s_id_227+s_id_228+s_id_229+s_id_230+s_id_232+s_id_233',data=df_refined).fit()"
   ]
  },
  {
   "cell_type": "code",
   "execution_count": 148,
   "id": "8675db60",
   "metadata": {},
   "outputs": [
    {
     "name": "stdout",
     "output_type": "stream",
     "text": [
      "\\begin{table}\n",
      "\\caption{}\n",
      "\\label{}\n",
      "\\begin{center}\n",
      "\\begin{tabular}{lllll}\n",
      "\\hline\n",
      "                        & diff I     & diff II    & diff III   & diff IIII    \\\\\n",
      "\\hline\n",
      "C(education)[T.1]       &            & 0.1664     &            & 2.4178***    \\\\\n",
      "                        &            & (0.2830)   &            & (0.3147)     \\\\\n",
      "C(education)[T.2]       &            & 3.9039***  &            & 9.5765***    \\\\\n",
      "                        &            & (0.4713)   &            & (0.5606)     \\\\\n",
      "C(education)[T.3]       &            & -2.3439*** &            & 4.1205***    \\\\\n",
      "                        &            & (0.4871)   &            & (0.6042)     \\\\\n",
      "C(education)[T.4]       &            & -2.7239*** &            & 4.6486***    \\\\\n",
      "                        &            & (0.4125)   &            & (0.4787)     \\\\\n",
      "C(monthly\\_income)[T.1] &            & -4.7639*** &            & -7.9681***   \\\\\n",
      "                        &            & (0.3072)   &            & (0.3405)     \\\\\n",
      "C(monthly\\_income)[T.2] &            & -5.1685*** &            & -12.5962***  \\\\\n",
      "                        &            & (0.3891)   &            & (0.4564)     \\\\\n",
      "C(monthly\\_income)[T.3] &            & -4.7879*** &            & -13.2742***  \\\\\n",
      "                        &            & (0.5284)   &            & (0.5722)     \\\\\n",
      "C(monthly\\_income)[T.4] &            & -6.8342*** &            & -11.6707***  \\\\\n",
      "                        &            & (0.5091)   &            & (0.5335)     \\\\\n",
      "C(sex)[T.1]             &            & 0.3271     &            & 2.1405***    \\\\\n",
      "                        &            & (0.2558)   &            & (0.2829)     \\\\\n",
      "C(trt\\_type)[T.1]       & 1.4596***  & 1.2168***  & 2.8858***  & 2.9051***    \\\\\n",
      "                        & (0.1918)   & (0.2132)   & (0.2068)   & (0.2451)     \\\\\n",
      "Intercept               & 62.0029*** & 47.5892*** & 62.0302*** & 49.4724***   \\\\\n",
      "                        & (0.1323)   & (0.6592)   & (0.1434)   & (0.7200)     \\\\\n",
      "R-squared               & 0.0009     & 0.0430     & 0.0037     & 0.0481       \\\\\n",
      "R-squared Adj.          & 0.0009     & 0.0428     & 0.0037     & 0.0479       \\\\\n",
      "age                     &            & 0.6712***  &            & 0.6468***    \\\\\n",
      "                        &            & (0.0181)   &            & (0.0187)     \\\\\n",
      "\\hline\n",
      "\\end{tabular}\n",
      "\\end{center}\n",
      "\\end{table}\n"
     ]
    }
   ],
   "source": [
    "from statsmodels.iolib.summary2 import summary_col\n",
    "\n",
    "table1 = summary_col([diff_original_withoutdemo, diff_original_withcontrol,diff_refined_withoutdemo,\n",
    "                      diff_refined_withcontrol],stars=True)\n",
    "print(table1.as_latex())"
   ]
  },
  {
   "cell_type": "code",
   "execution_count": 85,
   "id": "292afda6",
   "metadata": {},
   "outputs": [],
   "source": [
    "screentime_original_withoutdemo =  smf.ols('total_screentime~C(trt_type)',data=df_original).fit()\n",
    "screentime_refined_withoutdemo =  smf.ols('total_screentime~C(trt_type)',data=df_refined).fit()\n",
    "screentime_original_withcontrol =  smf.ols('total_screentime~C(trt_type)+age+C(sex)+C(education)+C(monthly_income)',data=df_original).fit()\n",
    "screentime_refined_withcontrol =  smf.ols('total_screentime~C(trt_type)+age+C(sex)+C(education)+C(monthly_income)',data=df_refined).fit()\n",
    "screentime_original_withfactorsandcontrol =  smf.ols('total_screentime~C(trt_type)+age+C(sex)+C(education)+C(monthly_income)+s_id_103+s_id_104+s_id_105+s_id_106+s_id_107+s_id_108+s_id_109+s_id_110+s_id_111+s_id_112+s_id_113+s_id_114+s_id_115+s_id_116+s_id_117+s_id_118+s_id_119+s_id_120+s_id_121+s_id_122+s_id_123+s_id_124+s_id_125+s_id_126+s_id_127+s_id_128+s_id_129+s_id_130+s_id_201+s_id_202+s_id_203+s_id_204+s_id_205+s_id_206+s_id_207+s_id_208+s_id_209+s_id_210+s_id_211+s_id_212+s_id_213+s_id_214+s_id_215+s_id_216+s_id_217+s_id_218+s_id_219+s_id_220+s_id_221+s_id_222+s_id_223+s_id_224+s_id_225+s_id_226+s_id_227+s_id_228+s_id_229+s_id_230+s_id_231+s_id_232+s_id_233',data=df_original).fit()\n",
    "screentime_refined_withfactorsandcontrol =  smf.ols('total_screentime~C(trt_type)+age+C(sex)+C(education)+C(monthly_income)+s_id_102+s_id_103+s_id_104+s_id_105+s_id_106+s_id_108+s_id_109+s_id_110+s_id_111+s_id_112+s_id_113+s_id_114+s_id_115+s_id_116+s_id_117+s_id_119+s_id_120+s_id_121+s_id_122+s_id_124+s_id_126+s_id_128+s_id_129+s_id_130+s_id_202+s_id_204+s_id_205+s_id_206+s_id_208+s_id_209+s_id_210+s_id_211+s_id_212+s_id_213+s_id_215+s_id_216+s_id_217+s_id_218+s_id_219+s_id_220+s_id_222+s_id_223+s_id_224+s_id_225+s_id_226+s_id_227+s_id_228+s_id_229+s_id_230+s_id_232+s_id_233',data=df_refined).fit()"
   ]
  },
  {
   "cell_type": "code",
   "execution_count": 138,
   "id": "2e9789df",
   "metadata": {},
   "outputs": [
    {
     "name": "stdout",
     "output_type": "stream",
     "text": [
      "\\begin{table}\n",
      "\\caption{}\n",
      "\\label{}\n",
      "\\begin{center}\n",
      "\\begin{tabular}{lllll}\n",
      "\\hline\n",
      "                        & total\\_screentime I & total\\_screentime II & total\\_screentime III & total\\_screentime IIII  \\\\\n",
      "\\hline\n",
      "C(education)[T.1]       &                     & -484.4938***         &                       & -235.2655***            \\\\\n",
      "                        &                     & (11.2990)            &                       & (12.7326)               \\\\\n",
      "C(education)[T.2]       &                     & 711.7447***          &                       & 1416.9924***            \\\\\n",
      "                        &                     & (18.8169)            &                       & (22.6838)               \\\\\n",
      "C(education)[T.3]       &                     & -166.9137***         &                       & -186.9923***            \\\\\n",
      "                        &                     & (19.4475)            &                       & (24.4488)               \\\\\n",
      "C(education)[T.4]       &                     & -661.4103***         &                       & -521.9408***            \\\\\n",
      "                        &                     & (16.4683)            &                       & (19.3688)               \\\\\n",
      "C(monthly\\_income)[T.1] &                     & -281.8911***         &                       & -47.7331***             \\\\\n",
      "                        &                     & (12.2640)            &                       & (13.7799)               \\\\\n",
      "C(monthly\\_income)[T.2] &                     & 459.1553***          &                       & 326.9196***             \\\\\n",
      "                        &                     & (15.5344)            &                       & (18.4696)               \\\\\n",
      "C(monthly\\_income)[T.3] &                     & 201.2559***          &                       & 32.0796                 \\\\\n",
      "                        &                     & (21.0951)            &                       & (23.1526)               \\\\\n",
      "C(monthly\\_income)[T.4] &                     & -122.0711***         &                       & -167.9681***            \\\\\n",
      "                        &                     & (20.3273)            &                       & (21.5895)               \\\\\n",
      "C(sex)[T.1]             &                     & -12.0853             &                       & 264.5416***             \\\\\n",
      "                        &                     & (10.2118)            &                       & (11.4464)               \\\\\n",
      "C(trt\\_type)[T.1]       & 557.7242***         & 455.6162***          & 720.2104***           & 679.2870***             \\\\\n",
      "                        & (7.9818)            & (8.5133)             & (8.8454)              & (9.9184)                \\\\\n",
      "Intercept               & 2652.6688***        & 3383.9921***         & 2509.8463***          & 2498.0886***            \\\\\n",
      "                        & (5.5080)            & (26.3183)            & (6.1332)              & (29.1364)               \\\\\n",
      "R-squared               & 0.0719              & 0.1819               & 0.1131                & 0.2418                  \\\\\n",
      "R-squared Adj.          & 0.0719              & 0.1817               & 0.1131                & 0.2417                  \\\\\n",
      "age                     &                     & -17.7820***          &                       & -2.7338***              \\\\\n",
      "                        &                     & (0.7229)             &                       & (0.7568)                \\\\\n",
      "\\hline\n",
      "\\end{tabular}\n",
      "\\end{center}\n",
      "\\end{table}\n"
     ]
    }
   ],
   "source": [
    "table2 = summary_col([screentime_original_withoutdemo,  screentime_original_withcontrol,screentime_refined_withoutdemo,\n",
    "                      screentime_refined_withcontrol],stars=True)\n",
    "print(table2.as_latex())"
   ]
  },
  {
   "cell_type": "code",
   "execution_count": 151,
   "id": "9702bd4b",
   "metadata": {},
   "outputs": [
    {
     "name": "stdout",
     "output_type": "stream",
     "text": [
      "48.637529100540426\n"
     ]
    }
   ],
   "source": [
    "print(df['total_screentime_min'].mean())"
   ]
  },
  {
   "cell_type": "code",
   "execution_count": 146,
   "id": "e9c11c49",
   "metadata": {},
   "outputs": [],
   "source": [
    "df['dy_dx'] = (df['sliderValue'].pct_change())*100\n",
    "df_refined['dy_dx'] = (df_refined['sliderValue'].pct_change())*100"
   ]
  },
  {
   "cell_type": "code",
   "execution_count": 154,
   "id": "6c0f2b8f",
   "metadata": {},
   "outputs": [],
   "source": [
    "df['previousRingColor'] = df['currRingColor'].shift(-1)"
   ]
  },
  {
   "cell_type": "code",
   "execution_count": 155,
   "id": "1455ed08",
   "metadata": {},
   "outputs": [
    {
     "data": {
      "text/html": [
       "<div>\n",
       "<style scoped>\n",
       "    .dataframe tbody tr th:only-of-type {\n",
       "        vertical-align: middle;\n",
       "    }\n",
       "\n",
       "    .dataframe tbody tr th {\n",
       "        vertical-align: top;\n",
       "    }\n",
       "\n",
       "    .dataframe thead th {\n",
       "        text-align: right;\n",
       "    }\n",
       "</style>\n",
       "<table border=\"1\" class=\"dataframe\">\n",
       "  <thead>\n",
       "    <tr style=\"text-align: right;\">\n",
       "      <th></th>\n",
       "      <th>dy-dx</th>\n",
       "      <th>previousRingColor</th>\n",
       "    </tr>\n",
       "  </thead>\n",
       "  <tbody>\n",
       "    <tr>\n",
       "      <th>dy-dx</th>\n",
       "      <td>1.000000</td>\n",
       "      <td>-0.008302</td>\n",
       "    </tr>\n",
       "    <tr>\n",
       "      <th>previousRingColor</th>\n",
       "      <td>-0.008302</td>\n",
       "      <td>1.000000</td>\n",
       "    </tr>\n",
       "  </tbody>\n",
       "</table>\n",
       "</div>"
      ],
      "text/plain": [
       "                      dy-dx  previousRingColor\n",
       "dy-dx              1.000000          -0.008302\n",
       "previousRingColor -0.008302           1.000000"
      ]
     },
     "execution_count": 155,
     "metadata": {},
     "output_type": "execute_result"
    }
   ],
   "source": [
    "df_original_corr = df[['dy_dx','previousRingColor']]\n",
    "df_original_corr.corr()"
   ]
  },
  {
   "cell_type": "code",
   "execution_count": 187,
   "id": "41378bc9",
   "metadata": {},
   "outputs": [
    {
     "data": {
      "text/plain": [
       "Index(['Unnamed: 0', 'Unnamed: 0.1', 'Unnamed: 0.1.1', 'Unnamed: 0.1.1.1',\n",
       "       'roundNo', 'screenTime', 'sliderValue', 'currHiddenProb',\n",
       "       'currRingColor', 'nextHiddenProb', 'nextRingColor', 'cumlativeScore',\n",
       "       'changedInScore', 'subject_id', 'trt_type', 'sex', 'age', 'married',\n",
       "       'education', 'only_earning', 'head_family', 'no_people',\n",
       "       'monthly_income', 'salary_date', 'bills_date', 'fluctuating_expense',\n",
       "       'fluctuating_date', 'date_of_exp', 'diff', 'total_screentime',\n",
       "       'total_screentime_min', 'diff_raw', 'dy-dx', 'redRingColor',\n",
       "       'previousRingColor', 'bdist', 'sdist'],\n",
       "      dtype='object')"
      ]
     },
     "execution_count": 187,
     "metadata": {},
     "output_type": "execute_result"
    }
   ],
   "source": [
    "df.columns"
   ]
  },
  {
   "cell_type": "code",
   "execution_count": 177,
   "id": "b6a41b48",
   "metadata": {},
   "outputs": [
    {
     "data": {
      "text/html": [
       "<div>\n",
       "<style scoped>\n",
       "    .dataframe tbody tr th:only-of-type {\n",
       "        vertical-align: middle;\n",
       "    }\n",
       "\n",
       "    .dataframe tbody tr th {\n",
       "        vertical-align: top;\n",
       "    }\n",
       "\n",
       "    .dataframe thead th {\n",
       "        text-align: right;\n",
       "    }\n",
       "</style>\n",
       "<table border=\"1\" class=\"dataframe\">\n",
       "  <thead>\n",
       "    <tr style=\"text-align: right;\">\n",
       "      <th></th>\n",
       "      <th>index</th>\n",
       "      <th>Unnamed: 0</th>\n",
       "      <th>Unnamed: 0.1</th>\n",
       "      <th>roundNo</th>\n",
       "      <th>screenTime</th>\n",
       "      <th>sliderValue</th>\n",
       "      <th>currHiddenProb</th>\n",
       "      <th>currRingColor</th>\n",
       "      <th>nextHiddenProb</th>\n",
       "      <th>nextRingColor</th>\n",
       "      <th>...</th>\n",
       "      <th>date_of_exp</th>\n",
       "      <th>diff</th>\n",
       "      <th>total_screentime</th>\n",
       "      <th>total_screentime_min</th>\n",
       "      <th>diff_raw</th>\n",
       "      <th>dy-dx</th>\n",
       "      <th>redRingColor</th>\n",
       "      <th>previousRingColor</th>\n",
       "      <th>billsdistance</th>\n",
       "      <th>salarydistance</th>\n",
       "    </tr>\n",
       "  </thead>\n",
       "  <tbody>\n",
       "    <tr>\n",
       "      <th>0</th>\n",
       "      <td>0</td>\n",
       "      <td>0</td>\n",
       "      <td>0</td>\n",
       "      <td>1</td>\n",
       "      <td>18.647</td>\n",
       "      <td>50.0</td>\n",
       "      <td>0.140</td>\n",
       "      <td>0</td>\n",
       "      <td>0.140</td>\n",
       "      <td>1</td>\n",
       "      <td>...</td>\n",
       "      <td>25</td>\n",
       "      <td>49.860</td>\n",
       "      <td>3982.653</td>\n",
       "      <td>66.377550</td>\n",
       "      <td>49.860</td>\n",
       "      <td>NaN</td>\n",
       "      <td>1</td>\n",
       "      <td>1.0</td>\n",
       "      <td>-5</td>\n",
       "      <td>20</td>\n",
       "    </tr>\n",
       "    <tr>\n",
       "      <th>1</th>\n",
       "      <td>1</td>\n",
       "      <td>1</td>\n",
       "      <td>1</td>\n",
       "      <td>2</td>\n",
       "      <td>6.284</td>\n",
       "      <td>50.0</td>\n",
       "      <td>0.140</td>\n",
       "      <td>1</td>\n",
       "      <td>0.140</td>\n",
       "      <td>0</td>\n",
       "      <td>...</td>\n",
       "      <td>25</td>\n",
       "      <td>49.860</td>\n",
       "      <td>3982.653</td>\n",
       "      <td>66.377550</td>\n",
       "      <td>49.860</td>\n",
       "      <td>0.0</td>\n",
       "      <td>0</td>\n",
       "      <td>0.0</td>\n",
       "      <td>-5</td>\n",
       "      <td>20</td>\n",
       "    </tr>\n",
       "    <tr>\n",
       "      <th>2</th>\n",
       "      <td>2</td>\n",
       "      <td>2</td>\n",
       "      <td>2</td>\n",
       "      <td>3</td>\n",
       "      <td>1.786</td>\n",
       "      <td>50.0</td>\n",
       "      <td>0.140</td>\n",
       "      <td>0</td>\n",
       "      <td>0.140</td>\n",
       "      <td>0</td>\n",
       "      <td>...</td>\n",
       "      <td>25</td>\n",
       "      <td>49.860</td>\n",
       "      <td>3982.653</td>\n",
       "      <td>66.377550</td>\n",
       "      <td>49.860</td>\n",
       "      <td>0.0</td>\n",
       "      <td>1</td>\n",
       "      <td>0.0</td>\n",
       "      <td>-5</td>\n",
       "      <td>20</td>\n",
       "    </tr>\n",
       "    <tr>\n",
       "      <th>3</th>\n",
       "      <td>3</td>\n",
       "      <td>3</td>\n",
       "      <td>3</td>\n",
       "      <td>4</td>\n",
       "      <td>4.200</td>\n",
       "      <td>50.0</td>\n",
       "      <td>0.140</td>\n",
       "      <td>0</td>\n",
       "      <td>0.140</td>\n",
       "      <td>1</td>\n",
       "      <td>...</td>\n",
       "      <td>25</td>\n",
       "      <td>49.860</td>\n",
       "      <td>3982.653</td>\n",
       "      <td>66.377550</td>\n",
       "      <td>49.860</td>\n",
       "      <td>0.0</td>\n",
       "      <td>1</td>\n",
       "      <td>1.0</td>\n",
       "      <td>-5</td>\n",
       "      <td>20</td>\n",
       "    </tr>\n",
       "    <tr>\n",
       "      <th>4</th>\n",
       "      <td>4</td>\n",
       "      <td>4</td>\n",
       "      <td>4</td>\n",
       "      <td>5</td>\n",
       "      <td>5.979</td>\n",
       "      <td>50.0</td>\n",
       "      <td>0.140</td>\n",
       "      <td>1</td>\n",
       "      <td>0.140</td>\n",
       "      <td>0</td>\n",
       "      <td>...</td>\n",
       "      <td>25</td>\n",
       "      <td>49.860</td>\n",
       "      <td>3982.653</td>\n",
       "      <td>66.377550</td>\n",
       "      <td>49.860</td>\n",
       "      <td>0.0</td>\n",
       "      <td>0</td>\n",
       "      <td>0.0</td>\n",
       "      <td>-5</td>\n",
       "      <td>20</td>\n",
       "    </tr>\n",
       "    <tr>\n",
       "      <th>...</th>\n",
       "      <td>...</td>\n",
       "      <td>...</td>\n",
       "      <td>...</td>\n",
       "      <td>...</td>\n",
       "      <td>...</td>\n",
       "      <td>...</td>\n",
       "      <td>...</td>\n",
       "      <td>...</td>\n",
       "      <td>...</td>\n",
       "      <td>...</td>\n",
       "      <td>...</td>\n",
       "      <td>...</td>\n",
       "      <td>...</td>\n",
       "      <td>...</td>\n",
       "      <td>...</td>\n",
       "      <td>...</td>\n",
       "      <td>...</td>\n",
       "      <td>...</td>\n",
       "      <td>...</td>\n",
       "      <td>...</td>\n",
       "      <td>...</td>\n",
       "    </tr>\n",
       "    <tr>\n",
       "      <th>62995</th>\n",
       "      <td>62995</td>\n",
       "      <td>62995</td>\n",
       "      <td>32995</td>\n",
       "      <td>996</td>\n",
       "      <td>1.416</td>\n",
       "      <td>35.2</td>\n",
       "      <td>0.412</td>\n",
       "      <td>1</td>\n",
       "      <td>0.412</td>\n",
       "      <td>0</td>\n",
       "      <td>...</td>\n",
       "      <td>17</td>\n",
       "      <td>34.788</td>\n",
       "      <td>1764.593</td>\n",
       "      <td>29.409883</td>\n",
       "      <td>34.788</td>\n",
       "      <td>0.0</td>\n",
       "      <td>0</td>\n",
       "      <td>0.0</td>\n",
       "      <td>-12</td>\n",
       "      <td>7</td>\n",
       "    </tr>\n",
       "    <tr>\n",
       "      <th>62996</th>\n",
       "      <td>62996</td>\n",
       "      <td>62996</td>\n",
       "      <td>32996</td>\n",
       "      <td>997</td>\n",
       "      <td>1.791</td>\n",
       "      <td>35.2</td>\n",
       "      <td>0.412</td>\n",
       "      <td>0</td>\n",
       "      <td>0.412</td>\n",
       "      <td>0</td>\n",
       "      <td>...</td>\n",
       "      <td>17</td>\n",
       "      <td>34.788</td>\n",
       "      <td>1764.593</td>\n",
       "      <td>29.409883</td>\n",
       "      <td>34.788</td>\n",
       "      <td>0.0</td>\n",
       "      <td>1</td>\n",
       "      <td>0.0</td>\n",
       "      <td>-12</td>\n",
       "      <td>7</td>\n",
       "    </tr>\n",
       "    <tr>\n",
       "      <th>62997</th>\n",
       "      <td>62997</td>\n",
       "      <td>62997</td>\n",
       "      <td>32997</td>\n",
       "      <td>998</td>\n",
       "      <td>0.957</td>\n",
       "      <td>35.2</td>\n",
       "      <td>0.412</td>\n",
       "      <td>0</td>\n",
       "      <td>0.412</td>\n",
       "      <td>0</td>\n",
       "      <td>...</td>\n",
       "      <td>17</td>\n",
       "      <td>34.788</td>\n",
       "      <td>1764.593</td>\n",
       "      <td>29.409883</td>\n",
       "      <td>34.788</td>\n",
       "      <td>0.0</td>\n",
       "      <td>1</td>\n",
       "      <td>0.0</td>\n",
       "      <td>-12</td>\n",
       "      <td>7</td>\n",
       "    </tr>\n",
       "    <tr>\n",
       "      <th>62998</th>\n",
       "      <td>62998</td>\n",
       "      <td>62998</td>\n",
       "      <td>32998</td>\n",
       "      <td>999</td>\n",
       "      <td>1.288</td>\n",
       "      <td>35.2</td>\n",
       "      <td>0.412</td>\n",
       "      <td>0</td>\n",
       "      <td>0.412</td>\n",
       "      <td>1</td>\n",
       "      <td>...</td>\n",
       "      <td>17</td>\n",
       "      <td>34.788</td>\n",
       "      <td>1764.593</td>\n",
       "      <td>29.409883</td>\n",
       "      <td>34.788</td>\n",
       "      <td>0.0</td>\n",
       "      <td>1</td>\n",
       "      <td>1.0</td>\n",
       "      <td>-12</td>\n",
       "      <td>7</td>\n",
       "    </tr>\n",
       "    <tr>\n",
       "      <th>62999</th>\n",
       "      <td>62999</td>\n",
       "      <td>62999</td>\n",
       "      <td>32999</td>\n",
       "      <td>1000</td>\n",
       "      <td>1.099</td>\n",
       "      <td>35.2</td>\n",
       "      <td>0.412</td>\n",
       "      <td>1</td>\n",
       "      <td>0.412</td>\n",
       "      <td>1</td>\n",
       "      <td>...</td>\n",
       "      <td>17</td>\n",
       "      <td>34.788</td>\n",
       "      <td>1764.593</td>\n",
       "      <td>29.409883</td>\n",
       "      <td>34.788</td>\n",
       "      <td>0.0</td>\n",
       "      <td>0</td>\n",
       "      <td>NaN</td>\n",
       "      <td>-12</td>\n",
       "      <td>7</td>\n",
       "    </tr>\n",
       "  </tbody>\n",
       "</table>\n",
       "<p>63000 rows × 36 columns</p>\n",
       "</div>"
      ],
      "text/plain": [
       "       index  Unnamed: 0  Unnamed: 0.1  roundNo  screenTime  sliderValue  \\\n",
       "0          0           0             0        1      18.647         50.0   \n",
       "1          1           1             1        2       6.284         50.0   \n",
       "2          2           2             2        3       1.786         50.0   \n",
       "3          3           3             3        4       4.200         50.0   \n",
       "4          4           4             4        5       5.979         50.0   \n",
       "...      ...         ...           ...      ...         ...          ...   \n",
       "62995  62995       62995         32995      996       1.416         35.2   \n",
       "62996  62996       62996         32996      997       1.791         35.2   \n",
       "62997  62997       62997         32997      998       0.957         35.2   \n",
       "62998  62998       62998         32998      999       1.288         35.2   \n",
       "62999  62999       62999         32999     1000       1.099         35.2   \n",
       "\n",
       "       currHiddenProb  currRingColor  nextHiddenProb  nextRingColor  ...  \\\n",
       "0               0.140              0           0.140              1  ...   \n",
       "1               0.140              1           0.140              0  ...   \n",
       "2               0.140              0           0.140              0  ...   \n",
       "3               0.140              0           0.140              1  ...   \n",
       "4               0.140              1           0.140              0  ...   \n",
       "...               ...            ...             ...            ...  ...   \n",
       "62995           0.412              1           0.412              0  ...   \n",
       "62996           0.412              0           0.412              0  ...   \n",
       "62997           0.412              0           0.412              0  ...   \n",
       "62998           0.412              0           0.412              1  ...   \n",
       "62999           0.412              1           0.412              1  ...   \n",
       "\n",
       "       date_of_exp    diff  total_screentime  total_screentime_min  diff_raw  \\\n",
       "0               25  49.860          3982.653             66.377550    49.860   \n",
       "1               25  49.860          3982.653             66.377550    49.860   \n",
       "2               25  49.860          3982.653             66.377550    49.860   \n",
       "3               25  49.860          3982.653             66.377550    49.860   \n",
       "4               25  49.860          3982.653             66.377550    49.860   \n",
       "...            ...     ...               ...                   ...       ...   \n",
       "62995           17  34.788          1764.593             29.409883    34.788   \n",
       "62996           17  34.788          1764.593             29.409883    34.788   \n",
       "62997           17  34.788          1764.593             29.409883    34.788   \n",
       "62998           17  34.788          1764.593             29.409883    34.788   \n",
       "62999           17  34.788          1764.593             29.409883    34.788   \n",
       "\n",
       "       dy-dx  redRingColor  previousRingColor  billsdistance  salarydistance  \n",
       "0        NaN             1                1.0             -5              20  \n",
       "1        0.0             0                0.0             -5              20  \n",
       "2        0.0             1                0.0             -5              20  \n",
       "3        0.0             1                1.0             -5              20  \n",
       "4        0.0             0                0.0             -5              20  \n",
       "...      ...           ...                ...            ...             ...  \n",
       "62995    0.0             0                0.0            -12               7  \n",
       "62996    0.0             1                0.0            -12               7  \n",
       "62997    0.0             1                0.0            -12               7  \n",
       "62998    0.0             1                1.0            -12               7  \n",
       "62999    0.0             0                NaN            -12               7  \n",
       "\n",
       "[63000 rows x 36 columns]"
      ]
     },
     "execution_count": 177,
     "metadata": {},
     "output_type": "execute_result"
    }
   ],
   "source": [
    "df['billsdistance'] = df['date_of_exp'] - df['fluctuating_date']\n",
    "df['salarydistance'] = df['date_of_exp'] - df['salary_date']\n",
    "\n",
    "df.reset_index()"
   ]
  },
  {
   "cell_type": "code",
   "execution_count": 196,
   "id": "fdd96786",
   "metadata": {},
   "outputs": [
    {
     "name": "stderr",
     "output_type": "stream",
     "text": [
      "<ipython-input-196-aa2c2ce537f9>:1: SettingWithCopyWarning: \n",
      "A value is trying to be set on a copy of a slice from a DataFrame.\n",
      "Try using .loc[row_indexer,col_indexer] = value instead\n",
      "\n",
      "See the caveats in the documentation: https://pandas.pydata.org/pandas-docs/stable/user_guide/indexing.html#returning-a-view-versus-a-copy\n",
      "  df_refined['billsdistance'] = df_refined['date_of_exp'] - df_refined['fluctuating_date']\n",
      "<ipython-input-196-aa2c2ce537f9>:2: SettingWithCopyWarning: \n",
      "A value is trying to be set on a copy of a slice from a DataFrame.\n",
      "Try using .loc[row_indexer,col_indexer] = value instead\n",
      "\n",
      "See the caveats in the documentation: https://pandas.pydata.org/pandas-docs/stable/user_guide/indexing.html#returning-a-view-versus-a-copy\n",
      "  df_refined['salarydistance'] = df_refined['date_of_exp'] - df_refined['salary_date']\n"
     ]
    },
    {
     "data": {
      "text/html": [
       "<div>\n",
       "<style scoped>\n",
       "    .dataframe tbody tr th:only-of-type {\n",
       "        vertical-align: middle;\n",
       "    }\n",
       "\n",
       "    .dataframe tbody tr th {\n",
       "        vertical-align: top;\n",
       "    }\n",
       "\n",
       "    .dataframe thead th {\n",
       "        text-align: right;\n",
       "    }\n",
       "</style>\n",
       "<table border=\"1\" class=\"dataframe\">\n",
       "  <thead>\n",
       "    <tr style=\"text-align: right;\">\n",
       "      <th></th>\n",
       "      <th>index</th>\n",
       "      <th>Unnamed: 0</th>\n",
       "      <th>roundNo</th>\n",
       "      <th>screenTime</th>\n",
       "      <th>sliderValue</th>\n",
       "      <th>currHiddenProb</th>\n",
       "      <th>currRingColor</th>\n",
       "      <th>nextHiddenProb</th>\n",
       "      <th>nextRingColor</th>\n",
       "      <th>cumlativeScore</th>\n",
       "      <th>...</th>\n",
       "      <th>total_screentime</th>\n",
       "      <th>total_screentime_min</th>\n",
       "      <th>diff_raw</th>\n",
       "      <th>sign_diff</th>\n",
       "      <th>dummy_trt0</th>\n",
       "      <th>dummy_trt1</th>\n",
       "      <th>redRingColor</th>\n",
       "      <th>dy-dx</th>\n",
       "      <th>billsdistance</th>\n",
       "      <th>salarydistance</th>\n",
       "    </tr>\n",
       "  </thead>\n",
       "  <tbody>\n",
       "    <tr>\n",
       "      <th>0</th>\n",
       "      <td>0</td>\n",
       "      <td>0</td>\n",
       "      <td>1</td>\n",
       "      <td>18.647</td>\n",
       "      <td>50.0</td>\n",
       "      <td>0.140</td>\n",
       "      <td>0</td>\n",
       "      <td>0.140</td>\n",
       "      <td>1</td>\n",
       "      <td>0.750</td>\n",
       "      <td>...</td>\n",
       "      <td>3982.653</td>\n",
       "      <td>66.377550</td>\n",
       "      <td>-49.860</td>\n",
       "      <td>0</td>\n",
       "      <td>0</td>\n",
       "      <td>1</td>\n",
       "      <td>1</td>\n",
       "      <td>NaN</td>\n",
       "      <td>-5</td>\n",
       "      <td>20</td>\n",
       "    </tr>\n",
       "    <tr>\n",
       "      <th>1</th>\n",
       "      <td>1</td>\n",
       "      <td>1</td>\n",
       "      <td>2</td>\n",
       "      <td>6.284</td>\n",
       "      <td>50.0</td>\n",
       "      <td>0.140</td>\n",
       "      <td>1</td>\n",
       "      <td>0.140</td>\n",
       "      <td>0</td>\n",
       "      <td>1.500</td>\n",
       "      <td>...</td>\n",
       "      <td>3982.653</td>\n",
       "      <td>66.377550</td>\n",
       "      <td>-49.860</td>\n",
       "      <td>0</td>\n",
       "      <td>0</td>\n",
       "      <td>1</td>\n",
       "      <td>0</td>\n",
       "      <td>0.0</td>\n",
       "      <td>-5</td>\n",
       "      <td>20</td>\n",
       "    </tr>\n",
       "    <tr>\n",
       "      <th>2</th>\n",
       "      <td>2</td>\n",
       "      <td>2</td>\n",
       "      <td>3</td>\n",
       "      <td>1.786</td>\n",
       "      <td>50.0</td>\n",
       "      <td>0.140</td>\n",
       "      <td>0</td>\n",
       "      <td>0.140</td>\n",
       "      <td>0</td>\n",
       "      <td>2.250</td>\n",
       "      <td>...</td>\n",
       "      <td>3982.653</td>\n",
       "      <td>66.377550</td>\n",
       "      <td>-49.860</td>\n",
       "      <td>0</td>\n",
       "      <td>0</td>\n",
       "      <td>1</td>\n",
       "      <td>1</td>\n",
       "      <td>0.0</td>\n",
       "      <td>-5</td>\n",
       "      <td>20</td>\n",
       "    </tr>\n",
       "    <tr>\n",
       "      <th>3</th>\n",
       "      <td>3</td>\n",
       "      <td>3</td>\n",
       "      <td>4</td>\n",
       "      <td>4.200</td>\n",
       "      <td>50.0</td>\n",
       "      <td>0.140</td>\n",
       "      <td>0</td>\n",
       "      <td>0.140</td>\n",
       "      <td>1</td>\n",
       "      <td>3.000</td>\n",
       "      <td>...</td>\n",
       "      <td>3982.653</td>\n",
       "      <td>66.377550</td>\n",
       "      <td>-49.860</td>\n",
       "      <td>0</td>\n",
       "      <td>0</td>\n",
       "      <td>1</td>\n",
       "      <td>1</td>\n",
       "      <td>0.0</td>\n",
       "      <td>-5</td>\n",
       "      <td>20</td>\n",
       "    </tr>\n",
       "    <tr>\n",
       "      <th>4</th>\n",
       "      <td>4</td>\n",
       "      <td>4</td>\n",
       "      <td>5</td>\n",
       "      <td>5.979</td>\n",
       "      <td>50.0</td>\n",
       "      <td>0.140</td>\n",
       "      <td>1</td>\n",
       "      <td>0.140</td>\n",
       "      <td>0</td>\n",
       "      <td>3.750</td>\n",
       "      <td>...</td>\n",
       "      <td>3982.653</td>\n",
       "      <td>66.377550</td>\n",
       "      <td>-49.860</td>\n",
       "      <td>0</td>\n",
       "      <td>0</td>\n",
       "      <td>1</td>\n",
       "      <td>0</td>\n",
       "      <td>0.0</td>\n",
       "      <td>-5</td>\n",
       "      <td>20</td>\n",
       "    </tr>\n",
       "    <tr>\n",
       "      <th>...</th>\n",
       "      <td>...</td>\n",
       "      <td>...</td>\n",
       "      <td>...</td>\n",
       "      <td>...</td>\n",
       "      <td>...</td>\n",
       "      <td>...</td>\n",
       "      <td>...</td>\n",
       "      <td>...</td>\n",
       "      <td>...</td>\n",
       "      <td>...</td>\n",
       "      <td>...</td>\n",
       "      <td>...</td>\n",
       "      <td>...</td>\n",
       "      <td>...</td>\n",
       "      <td>...</td>\n",
       "      <td>...</td>\n",
       "      <td>...</td>\n",
       "      <td>...</td>\n",
       "      <td>...</td>\n",
       "      <td>...</td>\n",
       "      <td>...</td>\n",
       "    </tr>\n",
       "    <tr>\n",
       "      <th>51995</th>\n",
       "      <td>62995</td>\n",
       "      <td>32995</td>\n",
       "      <td>996</td>\n",
       "      <td>1.416</td>\n",
       "      <td>35.2</td>\n",
       "      <td>0.412</td>\n",
       "      <td>1</td>\n",
       "      <td>0.412</td>\n",
       "      <td>0</td>\n",
       "      <td>689.662</td>\n",
       "      <td>...</td>\n",
       "      <td>1764.593</td>\n",
       "      <td>29.409883</td>\n",
       "      <td>-34.788</td>\n",
       "      <td>0</td>\n",
       "      <td>1</td>\n",
       "      <td>0</td>\n",
       "      <td>0</td>\n",
       "      <td>0.0</td>\n",
       "      <td>-12</td>\n",
       "      <td>7</td>\n",
       "    </tr>\n",
       "    <tr>\n",
       "      <th>51996</th>\n",
       "      <td>62996</td>\n",
       "      <td>32996</td>\n",
       "      <td>997</td>\n",
       "      <td>1.791</td>\n",
       "      <td>35.2</td>\n",
       "      <td>0.412</td>\n",
       "      <td>0</td>\n",
       "      <td>0.412</td>\n",
       "      <td>0</td>\n",
       "      <td>690.538</td>\n",
       "      <td>...</td>\n",
       "      <td>1764.593</td>\n",
       "      <td>29.409883</td>\n",
       "      <td>-34.788</td>\n",
       "      <td>0</td>\n",
       "      <td>1</td>\n",
       "      <td>0</td>\n",
       "      <td>1</td>\n",
       "      <td>0.0</td>\n",
       "      <td>-12</td>\n",
       "      <td>7</td>\n",
       "    </tr>\n",
       "    <tr>\n",
       "      <th>51997</th>\n",
       "      <td>62997</td>\n",
       "      <td>32997</td>\n",
       "      <td>998</td>\n",
       "      <td>0.957</td>\n",
       "      <td>35.2</td>\n",
       "      <td>0.412</td>\n",
       "      <td>0</td>\n",
       "      <td>0.412</td>\n",
       "      <td>0</td>\n",
       "      <td>691.414</td>\n",
       "      <td>...</td>\n",
       "      <td>1764.593</td>\n",
       "      <td>29.409883</td>\n",
       "      <td>-34.788</td>\n",
       "      <td>0</td>\n",
       "      <td>1</td>\n",
       "      <td>0</td>\n",
       "      <td>1</td>\n",
       "      <td>0.0</td>\n",
       "      <td>-12</td>\n",
       "      <td>7</td>\n",
       "    </tr>\n",
       "    <tr>\n",
       "      <th>51998</th>\n",
       "      <td>62998</td>\n",
       "      <td>32998</td>\n",
       "      <td>999</td>\n",
       "      <td>1.288</td>\n",
       "      <td>35.2</td>\n",
       "      <td>0.412</td>\n",
       "      <td>0</td>\n",
       "      <td>0.412</td>\n",
       "      <td>1</td>\n",
       "      <td>691.994</td>\n",
       "      <td>...</td>\n",
       "      <td>1764.593</td>\n",
       "      <td>29.409883</td>\n",
       "      <td>-34.788</td>\n",
       "      <td>0</td>\n",
       "      <td>1</td>\n",
       "      <td>0</td>\n",
       "      <td>1</td>\n",
       "      <td>0.0</td>\n",
       "      <td>-12</td>\n",
       "      <td>7</td>\n",
       "    </tr>\n",
       "    <tr>\n",
       "      <th>51999</th>\n",
       "      <td>62999</td>\n",
       "      <td>32999</td>\n",
       "      <td>1000</td>\n",
       "      <td>1.099</td>\n",
       "      <td>35.2</td>\n",
       "      <td>0.412</td>\n",
       "      <td>1</td>\n",
       "      <td>0.412</td>\n",
       "      <td>1</td>\n",
       "      <td>692.574</td>\n",
       "      <td>...</td>\n",
       "      <td>1764.593</td>\n",
       "      <td>29.409883</td>\n",
       "      <td>-34.788</td>\n",
       "      <td>0</td>\n",
       "      <td>1</td>\n",
       "      <td>0</td>\n",
       "      <td>0</td>\n",
       "      <td>0.0</td>\n",
       "      <td>-12</td>\n",
       "      <td>7</td>\n",
       "    </tr>\n",
       "  </tbody>\n",
       "</table>\n",
       "<p>52000 rows × 37 columns</p>\n",
       "</div>"
      ],
      "text/plain": [
       "       index  Unnamed: 0  roundNo  screenTime  sliderValue  currHiddenProb  \\\n",
       "0          0           0        1      18.647         50.0           0.140   \n",
       "1          1           1        2       6.284         50.0           0.140   \n",
       "2          2           2        3       1.786         50.0           0.140   \n",
       "3          3           3        4       4.200         50.0           0.140   \n",
       "4          4           4        5       5.979         50.0           0.140   \n",
       "...      ...         ...      ...         ...          ...             ...   \n",
       "51995  62995       32995      996       1.416         35.2           0.412   \n",
       "51996  62996       32996      997       1.791         35.2           0.412   \n",
       "51997  62997       32997      998       0.957         35.2           0.412   \n",
       "51998  62998       32998      999       1.288         35.2           0.412   \n",
       "51999  62999       32999     1000       1.099         35.2           0.412   \n",
       "\n",
       "       currRingColor  nextHiddenProb  nextRingColor  cumlativeScore  ...  \\\n",
       "0                  0           0.140              1           0.750  ...   \n",
       "1                  1           0.140              0           1.500  ...   \n",
       "2                  0           0.140              0           2.250  ...   \n",
       "3                  0           0.140              1           3.000  ...   \n",
       "4                  1           0.140              0           3.750  ...   \n",
       "...              ...             ...            ...             ...  ...   \n",
       "51995              1           0.412              0         689.662  ...   \n",
       "51996              0           0.412              0         690.538  ...   \n",
       "51997              0           0.412              0         691.414  ...   \n",
       "51998              0           0.412              1         691.994  ...   \n",
       "51999              1           0.412              1         692.574  ...   \n",
       "\n",
       "       total_screentime  total_screentime_min  diff_raw sign_diff  dummy_trt0  \\\n",
       "0              3982.653             66.377550   -49.860         0           0   \n",
       "1              3982.653             66.377550   -49.860         0           0   \n",
       "2              3982.653             66.377550   -49.860         0           0   \n",
       "3              3982.653             66.377550   -49.860         0           0   \n",
       "4              3982.653             66.377550   -49.860         0           0   \n",
       "...                 ...                   ...       ...       ...         ...   \n",
       "51995          1764.593             29.409883   -34.788         0           1   \n",
       "51996          1764.593             29.409883   -34.788         0           1   \n",
       "51997          1764.593             29.409883   -34.788         0           1   \n",
       "51998          1764.593             29.409883   -34.788         0           1   \n",
       "51999          1764.593             29.409883   -34.788         0           1   \n",
       "\n",
       "      dummy_trt1 redRingColor dy-dx billsdistance  salarydistance  \n",
       "0              1            1   NaN            -5              20  \n",
       "1              1            0   0.0            -5              20  \n",
       "2              1            1   0.0            -5              20  \n",
       "3              1            1   0.0            -5              20  \n",
       "4              1            0   0.0            -5              20  \n",
       "...          ...          ...   ...           ...             ...  \n",
       "51995          0            0   0.0           -12               7  \n",
       "51996          0            1   0.0           -12               7  \n",
       "51997          0            1   0.0           -12               7  \n",
       "51998          0            1   0.0           -12               7  \n",
       "51999          0            0   0.0           -12               7  \n",
       "\n",
       "[52000 rows x 37 columns]"
      ]
     },
     "execution_count": 196,
     "metadata": {},
     "output_type": "execute_result"
    }
   ],
   "source": [
    "df_refined['billsdistance'] = df_refined['date_of_exp'] - df_refined['fluctuating_date']\n",
    "df_refined['salarydistance'] = df_refined['date_of_exp'] - df_refined['salary_date']\n",
    "\n",
    "df_refined.reset_index()"
   ]
  },
  {
   "cell_type": "code",
   "execution_count": 166,
   "id": "91eecbbe",
   "metadata": {},
   "outputs": [
    {
     "data": {
      "text/plain": [
       "0        20\n",
       "1        20\n",
       "2        20\n",
       "3        20\n",
       "4        20\n",
       "         ..\n",
       "62995     7\n",
       "62996     7\n",
       "62997     7\n",
       "62998     7\n",
       "62999     7\n",
       "Name: salarydistance, Length: 63000, dtype: int64"
      ]
     },
     "execution_count": 166,
     "metadata": {},
     "output_type": "execute_result"
    }
   ],
   "source": [
    "df['salarydistance']"
   ]
  },
  {
   "cell_type": "code",
   "execution_count": 198,
   "id": "a3b07b0c",
   "metadata": {},
   "outputs": [
    {
     "name": "stderr",
     "output_type": "stream",
     "text": [
      "C:\\Users\\adesh\\anaconda3\\lib\\site-packages\\pandas\\core\\frame.py:4441: SettingWithCopyWarning: \n",
      "A value is trying to be set on a copy of a slice from a DataFrame\n",
      "\n",
      "See the caveats in the documentation: https://pandas.pydata.org/pandas-docs/stable/user_guide/indexing.html#returning-a-view-versus-a-copy\n",
      "  return super().rename(\n"
     ]
    }
   ],
   "source": [
    "df.rename(columns={'billsdistance':'bdist','salarydistance':'sdist'},inplace=True)\n",
    "df_refined.rename(columns={'billsdistance':'bdist','salarydistance':'sdist'},inplace=True)\n"
   ]
  },
  {
   "cell_type": "code",
   "execution_count": 16,
   "id": "13a73d96",
   "metadata": {},
   "outputs": [],
   "source": [
    "df.to_csv('master_data.csv')\n",
    "df_refined.to_csv('master_data_refined.csv')"
   ]
  },
  {
   "cell_type": "code",
   "execution_count": 188,
   "id": "44e699b7",
   "metadata": {},
   "outputs": [],
   "source": [
    "df = pd.read_csv('master_data.csv')"
   ]
  },
  {
   "cell_type": "code",
   "execution_count": null,
   "id": "ab3ae036",
   "metadata": {},
   "outputs": [],
   "source": [
    "dependent = df[['diff']]\n",
    "xtrain = df[['bdist','sdist']]"
   ]
  },
  {
   "cell_type": "code",
   "execution_count": 88,
   "id": "29e200f3",
   "metadata": {},
   "outputs": [],
   "source": [
    "diff_original_distance =  smf.ols('diff ~ C(trt_type):bdist + C(trt_type):sdist + C(trt_type):C(only_earning)+ C(trt_type):C(fluctuating_expense)',data=df_original).fit()\n",
    "diff_refined_distance =  smf.ols('diff ~ C(trt_type):bdist + C(trt_type):sdist + C(trt_type):C(only_earning)+ C(trt_type):C(fluctuating_expense)',data=df_refined).fit()"
   ]
  },
  {
   "cell_type": "code",
   "execution_count": 89,
   "id": "1a4baa8c",
   "metadata": {},
   "outputs": [
    {
     "name": "stdout",
     "output_type": "stream",
     "text": [
      "\\begin{table}\n",
      "\\caption{}\n",
      "\\label{}\n",
      "\\begin{center}\n",
      "\\begin{tabular}{lll}\n",
      "\\hline\n",
      "                                             & diff I      & diff II      \\\\\n",
      "\\hline\n",
      "Intercept                                    & 53.6675***  & 56.3443***   \\\\\n",
      "                                             & (0.5389)    & (0.5986)     \\\\\n",
      "C(only\\_earning)[T.1]                        & -2.9126***  & -18.1999***  \\\\\n",
      "                                             & (0.3721)    & (0.5677)     \\\\\n",
      "C(trt\\_type)[T.1]:C(only\\_earning)[0]        & -23.5319*** & -22.5856***  \\\\\n",
      "                                             & (2.2514)    & (2.2583)     \\\\\n",
      "C(trt\\_type)[T.1]:C(only\\_earning)[1]        & -12.7291*** & 2.6418       \\\\\n",
      "                                             & (2.3325)    & (2.3313)     \\\\\n",
      "C(trt\\_type)[0]:C(fluctuating\\_expense)[T.1] & 5.1982***   & 5.9489***    \\\\\n",
      "                                             & (0.3031)    & (0.3568)     \\\\\n",
      "C(trt\\_type)[1]:C(fluctuating\\_expense)[T.1] & 6.0081***   & 6.0131***    \\\\\n",
      "                                             & (0.3064)    & (0.3187)     \\\\\n",
      "C(trt\\_type)[0]:C(fluctuating\\_expense)[T.2] & -0.0000***  & -0.0000***   \\\\\n",
      "                                             & (0.0000)    & (0.0000)     \\\\\n",
      "C(trt\\_type)[1]:C(fluctuating\\_expense)[T.2] & -1.6767**   & -1.2586      \\\\\n",
      "                                             & (0.8274)    & (0.8019)     \\\\\n",
      "C(trt\\_type)[0]:bdist                        & 0.4084***   & 0.5892***    \\\\\n",
      "                                             & (0.0235)    & (0.0243)     \\\\\n",
      "C(trt\\_type)[1]:bdist                        & -0.6610***  & -0.6951***   \\\\\n",
      "                                             & (0.0186)    & (0.0188)     \\\\\n",
      "C(trt\\_type)[0]:sdist                        & 0.3829***   & 0.0612       \\\\\n",
      "                                             & (0.0454)    & (0.0479)     \\\\\n",
      "C(trt\\_type)[1]:sdist                        & 1.5692***   & 1.4581***    \\\\\n",
      "                                             & (0.1001)    & (0.0988)     \\\\\n",
      "R-squared                                    & 0.0546      & 0.0832       \\\\\n",
      "R-squared Adj.                               & 0.0545      & 0.0830       \\\\\n",
      "\\hline\n",
      "\\end{tabular}\n",
      "\\end{center}\n",
      "\\end{table}\n"
     ]
    }
   ],
   "source": [
    "table3 = summary_col([diff_original_distance, diff_refined_distance],stars=True)\n",
    "print(table3.as_latex())"
   ]
  },
  {
   "cell_type": "code",
   "execution_count": null,
   "id": "1982cb0a",
   "metadata": {},
   "outputs": [],
   "source": [
    "#additional regressions "
   ]
  },
  {
   "cell_type": "code",
   "execution_count": 1,
   "id": "e425a332",
   "metadata": {},
   "outputs": [],
   "source": [
    "import pandas as pd"
   ]
  },
  {
   "cell_type": "code",
   "execution_count": 2,
   "id": "2daa3ec0",
   "metadata": {},
   "outputs": [],
   "source": [
    "df_original = pd.read_csv('master_data.csv')\n",
    "df_refined = pd.read_csv('master_data_refined.csv')"
   ]
  },
  {
   "cell_type": "code",
   "execution_count": 3,
   "id": "911f0fa7",
   "metadata": {},
   "outputs": [],
   "source": [
    "df_original = df_original.fillna(0)\n",
    "df_refined = df_refined.fillna(0)"
   ]
  },
  {
   "cell_type": "code",
   "execution_count": 6,
   "id": "e3c0a5cf",
   "metadata": {},
   "outputs": [],
   "source": [
    "df_original.to_csv('master_data.csv')\n",
    "df_refined.to_csv('master_data_refined.csv')"
   ]
  },
  {
   "cell_type": "code",
   "execution_count": 4,
   "id": "a4cc40d6",
   "metadata": {},
   "outputs": [],
   "source": [
    "#adjustment frequencies"
   ]
  },
  {
   "cell_type": "code",
   "execution_count": 5,
   "id": "5768ce4e",
   "metadata": {},
   "outputs": [],
   "source": [
    "df_original['if_adjusted'] = 0\n",
    "df_original.loc[df_original['dy_dx'] > 0, ['if_adjusted']] = 1\n",
    "df_original['frequency_adjustment'] = df_original.groupby(['subject_id'])['if_adjusted'].transform(sum)\n",
    "\n",
    "df_refined['if_adjusted'] = 0\n",
    "df_refined.loc[df_refined['dy_dx'] > 0, ['if_adjusted']] = 1\n",
    "df_refined['frequency_adjustment'] = df_refined.groupby(['subject_id'])['if_adjusted'].transform(sum)"
   ]
  },
  {
   "cell_type": "code",
   "execution_count": null,
   "id": "6c3519a8",
   "metadata": {},
   "outputs": [],
   "source": [
    "#spell lengths"
   ]
  },
  {
   "cell_type": "code",
   "execution_count": 7,
   "id": "484b11f8",
   "metadata": {},
   "outputs": [],
   "source": [
    "df_original['spell_length_binary'] = 0\n",
    "df_original.loc[df_original['if_adjusted'] == 0, 'spell_length_binary'] = 1\n",
    "df_original['spell_length'] = df_original.groupby(['subject_id'])['spell_length_binary'].transform(sum)\n",
    "df_refined['spell_length_binary'] = 0\n",
    "df_refined.loc[df_refined['if_adjusted'] == 0, 'spell_length_binary'] = 1\n",
    "df_refined['spell_length'] = df_refined.groupby(['subject_id'])['spell_length_binary'].transform(sum)"
   ]
  },
  {
   "cell_type": "code",
   "execution_count": null,
   "id": "932fb895",
   "metadata": {},
   "outputs": [],
   "source": [
    "df_original.to_csv('master_data_star.csv')\n",
    "df_refined.to_csv('master_data_refined_star.csv')"
   ]
  },
  {
   "cell_type": "code",
   "execution_count": null,
   "id": "7a019313",
   "metadata": {},
   "outputs": [],
   "source": [
    "#regressions"
   ]
  },
  {
   "cell_type": "code",
   "execution_count": 1,
   "id": "62782880",
   "metadata": {},
   "outputs": [],
   "source": [
    "import pandas as pd "
   ]
  },
  {
   "cell_type": "code",
   "execution_count": 2,
   "id": "48e4ce4c",
   "metadata": {},
   "outputs": [],
   "source": [
    "df_original = pd.read_csv('master_data_star.csv')\n",
    "df_refined = pd.read_csv('master_data_refined_star.csv')"
   ]
  },
  {
   "cell_type": "code",
   "execution_count": 3,
   "id": "0ffaf2ef",
   "metadata": {},
   "outputs": [],
   "source": [
    "df_refined = df_refined.fillna(0)"
   ]
  },
  {
   "cell_type": "code",
   "execution_count": null,
   "id": "639a95b2",
   "metadata": {},
   "outputs": [],
   "source": [
    "#sum of adjustment frequencies"
   ]
  },
  {
   "cell_type": "code",
   "execution_count": 4,
   "id": "0df8d35f",
   "metadata": {},
   "outputs": [],
   "source": [
    "df_original['dy_dx_sum'] = df_original.groupby(['subject_id'])['dy_dx'].transform(sum)\n",
    "\n",
    "df_refined['dy_dx_sum'] = df_refined.groupby(['subject_id'])['dy_dx'].transform(sum)"
   ]
  },
  {
   "cell_type": "code",
   "execution_count": 12,
   "id": "5e35100f",
   "metadata": {},
   "outputs": [],
   "source": [
    "df_original.to_csv('test1.csv')\n",
    "df_refined.to_csv('test.csv')"
   ]
  },
  {
   "cell_type": "code",
   "execution_count": 5,
   "id": "52ef784c",
   "metadata": {},
   "outputs": [],
   "source": [
    "df_o_summed = df_original[['trt_type','spell_length','frequency_adjustment','subject_id','dy_dx_sum']]\n",
    "df_o_summed = df_o_summed.groupby(['subject_id']).mean()\n",
    "\n",
    "df_r_summed = df_refined[['trt_type','spell_length','frequency_adjustment','subject_id','dy_dx_sum']]\n",
    "df_r_summed = df_r_summed.groupby(['subject_id']).mean()"
   ]
  },
  {
   "cell_type": "code",
   "execution_count": 6,
   "id": "d30605b4",
   "metadata": {},
   "outputs": [],
   "source": [
    "df_o_summed.to_csv('o_summed.csv')\n",
    "df_r_summed.to_csv('r_summed.csv')"
   ]
  },
  {
   "cell_type": "code",
   "execution_count": 92,
   "id": "3d3279c0",
   "metadata": {},
   "outputs": [
    {
     "data": {
      "image/png": "[encoded data removed]",
      "text/plain": [
       "<Figure size 407x360 with 1 Axes>"
      ]
     },
     "metadata": {
      "needs_background": "light"
     },
     "output_type": "display_data"
    }
   ],
   "source": [
    "import matplotlib.pyplot as plt\n",
    "\n",
    "import seaborn as sns\n",
    "\n",
    "import numpy as np\n",
    "\n",
    "ax4 = sns.displot(data=df_o_summed, x= 'spell_length',hue='trt_type',kde=True,binwidth=35)\n",
    "ax4._legend.remove()\n",
    "ax4.set(xlabel='Spell length', ylabel='Count')\n",
    "plt.legend(['treatment','control'])\n",
    "plt.savefig('spelllength.png')"
   ]
  },
  {
   "cell_type": "code",
   "execution_count": 93,
   "id": "7d852701",
   "metadata": {},
   "outputs": [
    {
     "data": {
      "image/png": "[encoded data removed]",
      "text/plain": [
       "<Figure size 407x360 with 1 Axes>"
      ]
     },
     "metadata": {
      "needs_background": "light"
     },
     "output_type": "display_data"
    }
   ],
   "source": [
    "ax3 = sns.displot(data=df_o_summed, x= 'frequency_adjustment', hue='trt_type',kde=True,binwidth=35)\n",
    "ax3._legend.remove()\n",
    "ax3.set(xlabel='Frequency of adjustment', ylabel='Count')\n",
    "plt.legend(['treatment','control'])\n",
    "plt.savefig('frequency_adjustment.png')"
   ]
  },
  {
   "cell_type": "code",
   "execution_count": 100,
   "id": "0a1a31e7",
   "metadata": {},
   "outputs": [
    {
     "data": {
      "text/html": [
       "<div>\n",
       "<style scoped>\n",
       "    .dataframe tbody tr th:only-of-type {\n",
       "        vertical-align: middle;\n",
       "    }\n",
       "\n",
       "    .dataframe tbody tr th {\n",
       "        vertical-align: top;\n",
       "    }\n",
       "\n",
       "    .dataframe thead th {\n",
       "        text-align: right;\n",
       "    }\n",
       "</style>\n",
       "<table border=\"1\" class=\"dataframe\">\n",
       "  <thead>\n",
       "    <tr style=\"text-align: right;\">\n",
       "      <th></th>\n",
       "      <th>index</th>\n",
       "      <th>subject_id</th>\n",
       "      <th>trt_type</th>\n",
       "      <th>bdist</th>\n",
       "      <th>sdist</th>\n",
       "    </tr>\n",
       "  </thead>\n",
       "  <tbody>\n",
       "    <tr>\n",
       "      <th>0</th>\n",
       "      <td>0</td>\n",
       "      <td>101</td>\n",
       "      <td>1</td>\n",
       "      <td>-5</td>\n",
       "      <td>20</td>\n",
       "    </tr>\n",
       "    <tr>\n",
       "      <th>1</th>\n",
       "      <td>1</td>\n",
       "      <td>101</td>\n",
       "      <td>1</td>\n",
       "      <td>-5</td>\n",
       "      <td>20</td>\n",
       "    </tr>\n",
       "    <tr>\n",
       "      <th>2</th>\n",
       "      <td>2</td>\n",
       "      <td>101</td>\n",
       "      <td>1</td>\n",
       "      <td>-5</td>\n",
       "      <td>20</td>\n",
       "    </tr>\n",
       "    <tr>\n",
       "      <th>3</th>\n",
       "      <td>3</td>\n",
       "      <td>101</td>\n",
       "      <td>1</td>\n",
       "      <td>-5</td>\n",
       "      <td>20</td>\n",
       "    </tr>\n",
       "    <tr>\n",
       "      <th>4</th>\n",
       "      <td>4</td>\n",
       "      <td>101</td>\n",
       "      <td>1</td>\n",
       "      <td>-5</td>\n",
       "      <td>20</td>\n",
       "    </tr>\n",
       "    <tr>\n",
       "      <th>...</th>\n",
       "      <td>...</td>\n",
       "      <td>...</td>\n",
       "      <td>...</td>\n",
       "      <td>...</td>\n",
       "      <td>...</td>\n",
       "    </tr>\n",
       "    <tr>\n",
       "      <th>51995</th>\n",
       "      <td>51995</td>\n",
       "      <td>232</td>\n",
       "      <td>0</td>\n",
       "      <td>-12</td>\n",
       "      <td>7</td>\n",
       "    </tr>\n",
       "    <tr>\n",
       "      <th>51996</th>\n",
       "      <td>51996</td>\n",
       "      <td>232</td>\n",
       "      <td>0</td>\n",
       "      <td>-12</td>\n",
       "      <td>7</td>\n",
       "    </tr>\n",
       "    <tr>\n",
       "      <th>51997</th>\n",
       "      <td>51997</td>\n",
       "      <td>232</td>\n",
       "      <td>0</td>\n",
       "      <td>-12</td>\n",
       "      <td>7</td>\n",
       "    </tr>\n",
       "    <tr>\n",
       "      <th>51998</th>\n",
       "      <td>51998</td>\n",
       "      <td>232</td>\n",
       "      <td>0</td>\n",
       "      <td>-12</td>\n",
       "      <td>7</td>\n",
       "    </tr>\n",
       "    <tr>\n",
       "      <th>51999</th>\n",
       "      <td>51999</td>\n",
       "      <td>232</td>\n",
       "      <td>0</td>\n",
       "      <td>-12</td>\n",
       "      <td>7</td>\n",
       "    </tr>\n",
       "  </tbody>\n",
       "</table>\n",
       "<p>52000 rows × 5 columns</p>\n",
       "</div>"
      ],
      "text/plain": [
       "       index  subject_id  trt_type  bdist  sdist\n",
       "0          0         101         1     -5     20\n",
       "1          1         101         1     -5     20\n",
       "2          2         101         1     -5     20\n",
       "3          3         101         1     -5     20\n",
       "4          4         101         1     -5     20\n",
       "...      ...         ...       ...    ...    ...\n",
       "51995  51995         232         0    -12      7\n",
       "51996  51996         232         0    -12      7\n",
       "51997  51997         232         0    -12      7\n",
       "51998  51998         232         0    -12      7\n",
       "51999  51999         232         0    -12      7\n",
       "\n",
       "[52000 rows x 5 columns]"
      ]
     },
     "execution_count": 100,
     "metadata": {},
     "output_type": "execute_result"
    }
   ],
   "source": [
    "df_original_distance = df_original[['subject_id','trt_type','bdist','sdist']]\n",
    "df_refined_distance = df_refined[['subject_id','trt_type','bdist','sdist']]\n",
    "\n",
    "df_original_distance.reset_index()\n",
    "df_refined_distance.reset_index()"
   ]
  },
  {
   "cell_type": "code",
   "execution_count": 104,
   "id": "df95f5ea",
   "metadata": {},
   "outputs": [],
   "source": [
    "df_original_distance_summed = df_original_distance.groupby(['subject_id']).mean()\n",
    "df_refined_distance_summed = df_refined_distance.groupby(['subject_id']).mean()"
   ]
  },
  {
   "cell_type": "code",
   "execution_count": 105,
   "id": "0e91121f",
   "metadata": {},
   "outputs": [
    {
     "data": {
      "image/png": "[encoded data removed]",
      "text/plain": [
       "<Figure size 407x360 with 1 Axes>"
      ]
     },
     "metadata": {
      "needs_background": "light"
     },
     "output_type": "display_data"
    }
   ],
   "source": [
    "ax2 = sns.displot(data=df_original_distance_summed,x='bdist',hue='trt_type',binwidth=1)\n",
    "ax2._legend.remove()\n",
    "ax2.set(xlabel='Distance (in days) from last bill', ylabel='Count')\n",
    "plt.legend(['treatment','control'])\n",
    "plt.savefig('billdistance_summed.png')"
   ]
  },
  {
   "cell_type": "code",
   "execution_count": 136,
   "id": "4666ce6b",
   "metadata": {},
   "outputs": [
    {
     "data": {
      "text/plain": [
       "1    38000\n",
       "0    24000\n",
       "2     1000\n",
       "Name: fluctuating_expense, dtype: int64"
      ]
     },
     "execution_count": 136,
     "metadata": {},
     "output_type": "execute_result"
    }
   ],
   "source": [
    "df_original['fluctuating_expense'].value_counts()"
   ]
  },
  {
   "cell_type": "code",
   "execution_count": 94,
   "id": "c51debd8",
   "metadata": {},
   "outputs": [
    {
     "data": {
      "image/png": "[encoded data removed]",
      "text/plain": [
       "<Figure size 407x360 with 1 Axes>"
      ]
     },
     "metadata": {
      "needs_background": "light"
     },
     "output_type": "display_data"
    }
   ],
   "source": [
    "ax2 = sns.displot(data=df_original_distance,x='bdist',hue='trt_type',binwidth=1)\n",
    "ax2._legend.remove()\n",
    "ax2.set(xlabel='Distance (in days) from last bill', ylabel='Count')\n",
    "plt.legend(['treatment','control'])\n",
    "plt.savefig('billdistance.png')"
   ]
  },
  {
   "cell_type": "code",
   "execution_count": 98,
   "id": "d9acac89",
   "metadata": {},
   "outputs": [],
   "source": [
    "df_original['billuntil'] = df_original['fluctuating_date'] - df_original['date_of_exp']"
   ]
  },
  {
   "cell_type": "code",
   "execution_count": 106,
   "id": "a60ecfd9",
   "metadata": {},
   "outputs": [],
   "source": [
    "df_original_billuntil = df_original[['subject_id','trt_type','billuntil']]\n",
    "df_original_billuntil = df_original_billuntil.groupby(['subject_id']).mean()"
   ]
  },
  {
   "cell_type": "code",
   "execution_count": 109,
   "id": "3b3b446c",
   "metadata": {},
   "outputs": [
    {
     "data": {
      "image/png": "[encoded data removed]",
      "text/plain": [
       "<Figure size 407x360 with 1 Axes>"
      ]
     },
     "metadata": {
      "needs_background": "light"
     },
     "output_type": "display_data"
    }
   ],
   "source": [
    "ax5 = sns.displot(data=df_original_billuntil,x='billuntil',hue='trt_type',binwidth=1)\n",
    "ax5._legend.remove()\n",
    "ax5.set(xlabel='Distance (in days) until next bill', ylabel='Count')\n",
    "plt.legend(['treatment','control'])\n",
    "plt.savefig('billuntil_summed.png')"
   ]
  },
  {
   "cell_type": "code",
   "execution_count": 110,
   "id": "2372f4e1",
   "metadata": {},
   "outputs": [
    {
     "data": {
      "image/png": "[encoded data removed]",
      "text/plain": [
       "<Figure size 407x360 with 1 Axes>"
      ]
     },
     "metadata": {
      "needs_background": "light"
     },
     "output_type": "display_data"
    }
   ],
   "source": [
    "ax5 = sns.displot(data=df_original,x='billuntil',hue='trt_type',binwidth=1)\n",
    "ax5._legend.remove()\n",
    "ax5.set(xlabel='Distance (in days) until next bill', ylabel='Count')\n",
    "plt.legend(['treatment','control'])\n",
    "plt.savefig('billuntil.png')"
   ]
  },
  {
   "cell_type": "code",
   "execution_count": 124,
   "id": "2e52c592",
   "metadata": {},
   "outputs": [],
   "source": [
    "df_original['salary_until'] = df_original['salary_date'] - df_original['date_of_exp'] \n",
    "df_original['salary_until'] = df_original['salary_until'].abs()"
   ]
  },
  {
   "cell_type": "code",
   "execution_count": 125,
   "id": "03f71040",
   "metadata": {},
   "outputs": [],
   "source": [
    "df_original_salary_until = df_original[['subject_id','trt_type','salary_until']]\n",
    "df_original_salary_until = df_original_salary_until.groupby(['subject_id']).mean()"
   ]
  },
  {
   "cell_type": "code",
   "execution_count": 126,
   "id": "44afe22e",
   "metadata": {},
   "outputs": [
    {
     "data": {
      "image/png": "[encoded data removed]",
      "text/plain": [
       "<Figure size 407x360 with 1 Axes>"
      ]
     },
     "metadata": {
      "needs_background": "light"
     },
     "output_type": "display_data"
    }
   ],
   "source": [
    "ax = sns.displot(data=df_original_salary_until,x='salary_until',hue='trt_type',binwidth=1)\n",
    "ax._legend.remove()\n",
    "ax.set(xlabel='Distance (in days) until next salary', ylabel='Count')\n",
    "plt.legend(['treatment','control'])\n",
    "plt.savefig('salary_until_distance_summed.png')"
   ]
  },
  {
   "cell_type": "code",
   "execution_count": 108,
   "id": "02801a14",
   "metadata": {},
   "outputs": [
    {
     "data": {
      "image/png": "[encoded data removed]",
      "text/plain": [
       "<Figure size 407x360 with 1 Axes>"
      ]
     },
     "metadata": {
      "needs_background": "light"
     },
     "output_type": "display_data"
    }
   ],
   "source": [
    "ax = sns.displot(data=df_original_distance_summed,x='sdist',hue='trt_type',binwidth=1)\n",
    "ax._legend.remove()\n",
    "ax.set(xlabel='Distance (in days) from last salary', ylabel='Count')\n",
    "plt.legend(['treatment','control'])\n",
    "plt.savefig('salarydistance_summed.png')"
   ]
  },
  {
   "cell_type": "code",
   "execution_count": 131,
   "id": "02599188",
   "metadata": {},
   "outputs": [],
   "source": [
    "df_original['bills_time'] = \"\"\n",
    "df_original.loc[df_original['bills_date'] ==0, ['bills_time']] = \"Month's end\"\n",
    "df_original.loc[df_original['bills_date'] ==1, ['bills_time']] = \"Month's middle\"\n",
    "df_original.loc[df_original['bills_date'] ==2, ['bills_time']] = \"Month's start\""
   ]
  },
  {
   "cell_type": "code",
   "execution_count": 132,
   "id": "17e4076f",
   "metadata": {},
   "outputs": [],
   "source": [
    "df_original_arrival_time = df_original[['bills_time','trt_type','subject_id']]\n",
    "df_original_arrival_time = df_original_arrival_time.groupby(['subject_id']).mean()"
   ]
  },
  {
   "cell_type": "code",
   "execution_count": 134,
   "id": "f55577e8",
   "metadata": {},
   "outputs": [
    {
     "data": {
      "text/html": [
       "<div>\n",
       "<style scoped>\n",
       "    .dataframe tbody tr th:only-of-type {\n",
       "        vertical-align: middle;\n",
       "    }\n",
       "\n",
       "    .dataframe tbody tr th {\n",
       "        vertical-align: top;\n",
       "    }\n",
       "\n",
       "    .dataframe thead th {\n",
       "        text-align: right;\n",
       "    }\n",
       "</style>\n",
       "<table border=\"1\" class=\"dataframe\">\n",
       "  <thead>\n",
       "    <tr style=\"text-align: right;\">\n",
       "      <th></th>\n",
       "      <th>trt_type</th>\n",
       "    </tr>\n",
       "    <tr>\n",
       "      <th>subject_id</th>\n",
       "      <th></th>\n",
       "    </tr>\n",
       "  </thead>\n",
       "  <tbody>\n",
       "    <tr>\n",
       "      <th>101</th>\n",
       "      <td>1</td>\n",
       "    </tr>\n",
       "    <tr>\n",
       "      <th>102</th>\n",
       "      <td>1</td>\n",
       "    </tr>\n",
       "    <tr>\n",
       "      <th>103</th>\n",
       "      <td>1</td>\n",
       "    </tr>\n",
       "    <tr>\n",
       "      <th>104</th>\n",
       "      <td>1</td>\n",
       "    </tr>\n",
       "    <tr>\n",
       "      <th>105</th>\n",
       "      <td>1</td>\n",
       "    </tr>\n",
       "    <tr>\n",
       "      <th>106</th>\n",
       "      <td>1</td>\n",
       "    </tr>\n",
       "    <tr>\n",
       "      <th>107</th>\n",
       "      <td>1</td>\n",
       "    </tr>\n",
       "    <tr>\n",
       "      <th>108</th>\n",
       "      <td>1</td>\n",
       "    </tr>\n",
       "    <tr>\n",
       "      <th>109</th>\n",
       "      <td>1</td>\n",
       "    </tr>\n",
       "    <tr>\n",
       "      <th>110</th>\n",
       "      <td>1</td>\n",
       "    </tr>\n",
       "  </tbody>\n",
       "</table>\n",
       "</div>"
      ],
      "text/plain": [
       "            trt_type\n",
       "subject_id          \n",
       "101                1\n",
       "102                1\n",
       "103                1\n",
       "104                1\n",
       "105                1\n",
       "106                1\n",
       "107                1\n",
       "108                1\n",
       "109                1\n",
       "110                1"
      ]
     },
     "execution_count": 134,
     "metadata": {},
     "output_type": "execute_result"
    }
   ],
   "source": [
    "df_original_arrival_time.head(10)"
   ]
  },
  {
   "cell_type": "code",
   "execution_count": 95,
   "id": "5d0e5d3a",
   "metadata": {},
   "outputs": [
    {
     "data": {
      "image/png": "[encoded data removed]",
      "text/plain": [
       "<Figure size 407x360 with 1 Axes>"
      ]
     },
     "metadata": {
      "needs_background": "light"
     },
     "output_type": "display_data"
    }
   ],
   "source": [
    "ax = sns.displot(data=df_original_distance,x='sdist',hue='trt_type',binwidth=1)\n",
    "ax._legend.remove()\n",
    "ax.set(xlabel='Distance (in days) from last salary', ylabel='Count')\n",
    "plt.legend(['treatment','control'])\n",
    "plt.savefig('salarydistance.png')"
   ]
  },
  {
   "cell_type": "code",
   "execution_count": 135,
   "id": "308f0f13",
   "metadata": {},
   "outputs": [
    {
     "data": {
      "image/png": "[encoded data removed]",
      "text/plain": [
       "<Figure size 407x360 with 1 Axes>"
      ]
     },
     "metadata": {
      "needs_background": "light"
     },
     "output_type": "display_data"
    }
   ],
   "source": [
    "ax6 = sns.displot(data=df_original,x='bills_time',hue='trt_type',binwidth=1)\n",
    "ax6._legend.remove()\n",
    "ax6.set(xlabel='Approximate arrival of bills', ylabel='Count')\n",
    "plt.legend(['treatment','control'])\n",
    "plt.savefig('approximate_billsarrival.png')"
   ]
  },
  {
   "cell_type": "code",
   "execution_count": 90,
   "id": "6a8e540b",
   "metadata": {},
   "outputs": [],
   "source": [
    "import statsmodels.api as sm\n",
    "import statsmodels.formula.api as smf\n",
    "\n",
    "spelllengths_original =  smf.ols('spell_length~C(trt_type)',data=df_o_summed).fit()\n",
    "spelllengths_refined =  smf.ols('spell_length~C(trt_type)',data=df_r_summed).fit()\n",
    "frequencyadj_original =  smf.ols('frequency_adjustment~C(trt_type)',data=df_o_summed).fit()\n",
    "frequencyadj_refined =  smf.ols('frequency_adjustment~C(trt_type)',data=df_r_summed).fit()\n",
    "adjsize_original =  smf.ols('dy_dx_sum~C(trt_type)',data=df_o_summed).fit()\n",
    "adjsize_refined =  smf.ols('dy_dx_sum~C(trt_type)',data=df_r_summed).fit()"
   ]
  },
  {
   "cell_type": "code",
   "execution_count": 91,
   "id": "bd98c321",
   "metadata": {},
   "outputs": [
    {
     "name": "stdout",
     "output_type": "stream",
     "text": [
      "\\begin{table}\n",
      "\\caption{}\n",
      "\\label{}\n",
      "\\begin{center}\n",
      "\\begin{tabular}{lllllll}\n",
      "\\hline\n",
      "                  & spell\\_length I & spell\\_length II & frequency\\_adjustment I & frequency\\_adjustment II & dy\\_dx\\_sum I & dy\\_dx\\_sum II  \\\\\n",
      "\\hline\n",
      "Intercept         & 840.3333***     & 857.0741***      & 159.6667***             & 142.9259***              & 8697.6250***  & 6567.1855***    \\\\\n",
      "                  & (25.9060)       & (27.9971)        & (25.9060)               & (27.9971)                & (3089.7574)   & (1704.7833)     \\\\\n",
      "C(trt\\_type)[T.1] & -157.0667***    & -153.8741***     & 157.0667***             & 153.8741***              & 2162.2528     & -306.7991       \\\\\n",
      "                  & (37.5413)       & (40.3780)        & (37.5413)               & (40.3780)                & (4477.4839)   & (2458.6735)     \\\\\n",
      "R-squared         & 0.2230          & 0.2251           & 0.2230                  & 0.2251                   & 0.0038        & 0.0003          \\\\\n",
      "R-squared Adj.    & 0.2102          & 0.2096           & 0.2102                  & 0.2096                   & -0.0125       & -0.0197         \\\\\n",
      "\\hline\n",
      "\\end{tabular}\n",
      "\\end{center}\n",
      "\\end{table}\n"
     ]
    }
   ],
   "source": [
    "from statsmodels.iolib.summary2 import summary_col\n",
    "\n",
    "\n",
    "table4 = summary_col([spelllengths_original, spelllengths_refined, frequencyadj_original,\n",
    "                      frequencyadj_refined,adjsize_original,adjsize_refined],stars=True)\n",
    "print(table4.as_latex())"
   ]
  },
  {
   "cell_type": "code",
   "execution_count": 72,
   "id": "71fed61c",
   "metadata": {},
   "outputs": [
    {
     "name": "stdout",
     "output_type": "stream",
     "text": [
      "['Unnamed: 0', 'Unnamed: 0.1', 'Unnamed: 0.1.1', 'Unnamed: 0.1.1.1', 'Unnamed: 0.1.1.1.1', 'Unnamed: 0.1.1.1.1.1', 'Unnamed: 0.1.1.1.1.1.1', 'Unnamed: 0.1.1.1.1.1.1.1', 'Unnamed: 0.1.1.1.1.1.1.1.1', 'roundNo', 'screenTime', 'sliderValue', 'currHiddenProb', 'currRingColor', 'nextHiddenProb', 'nextRingColor', 'cumlativeScore', 'changedInScore', 'subject_id', 'trt_type', 'sex', 'age', 'married', 'education', 'only_earning', 'head_family', 'no_people', 'monthly_income', 'salary_date', 'bills_date', 'fluctuating_expense', 'fluctuating_date', 'date_of_exp', 'diff', 'total_screentime', 'total_screentime_min', 'diff_raw', 'dy_dx', 'redRingColor', 'previousRingColor', 'bdist', 'sdist', 's_id_102', 's_id_103', 's_id_104', 's_id_105', 's_id_106', 's_id_107', 's_id_108', 's_id_109', 's_id_110', 's_id_111', 's_id_112', 's_id_113', 's_id_114', 's_id_115', 's_id_116', 's_id_117', 's_id_118', 's_id_119', 's_id_120', 's_id_121', 's_id_122', 's_id_123', 's_id_124', 's_id_125', 's_id_126', 's_id_127', 's_id_128', 's_id_129', 's_id_130', 's_id_201', 's_id_202', 's_id_203', 's_id_204', 's_id_205', 's_id_206', 's_id_207', 's_id_208', 's_id_209', 's_id_210', 's_id_211', 's_id_212', 's_id_213', 's_id_214', 's_id_215', 's_id_216', 's_id_217', 's_id_218', 's_id_219', 's_id_220', 's_id_221', 's_id_222', 's_id_223', 's_id_224', 's_id_225', 's_id_226', 's_id_227', 's_id_228', 's_id_229', 's_id_230', 's_id_231', 's_id_232', 's_id_233', 'if_adjusted', 'frequency_adjustment', 'spell_length', 'spell_length_binary', 'dy_dx_sum']\n"
     ]
    }
   ],
   "source": [
    "print(list(df_original.columns))"
   ]
  },
  {
   "cell_type": "code",
   "execution_count": 75,
   "id": "74848237",
   "metadata": {},
   "outputs": [
    {
     "data": {
      "text/plain": [
       "913.662"
      ]
     },
     "execution_count": 75,
     "metadata": {},
     "output_type": "execute_result"
    }
   ],
   "source": [
    "df_original['cumlativeScore'].max()"
   ]
  },
  {
   "cell_type": "code",
   "execution_count": null,
   "id": "2500ee7c",
   "metadata": {},
   "outputs": [],
   "source": [
    "#coding for spell lengths"
   ]
  },
  {
   "cell_type": "code",
   "execution_count": 1,
   "id": "83c45bf5",
   "metadata": {},
   "outputs": [],
   "source": [
    "import pandas as pd"
   ]
  },
  {
   "cell_type": "code",
   "execution_count": 2,
   "id": "38cf3e54",
   "metadata": {},
   "outputs": [],
   "source": [
    "df_original = pd.read_csv('master_data_star.csv')\n",
    "df_refined = pd.read_csv('master_data_refined_star.csv')"
   ]
  },
  {
   "cell_type": "code",
   "execution_count": 3,
   "id": "f057a823",
   "metadata": {},
   "outputs": [],
   "source": [
    "df_original['spelllength_total'] = 0\n",
    "df_refined['spelllength_total'] = 0"
   ]
  },
  {
   "cell_type": "code",
   "execution_count": 4,
   "id": "0a7632a5",
   "metadata": {},
   "outputs": [],
   "source": [
    "temp = 0\n",
    "\n",
    "def calCounter(x):\n",
    "    global temp\n",
    "    if x == 0:\n",
    "        temp = 0\n",
    "        return 0\n",
    "    else:\n",
    "        temp = temp+1\n",
    "        return temp"
   ]
  },
  {
   "cell_type": "code",
   "execution_count": 5,
   "id": "7a3b9730",
   "metadata": {},
   "outputs": [],
   "source": [
    "df_original['spelllength_total'] = df_original['spell_length_binary'].map(calCounter)\n",
    "df_refined['spelllength_total'] = df_refined['spell_length_binary'].map(calCounter)"
   ]
  },
  {
   "cell_type": "code",
   "execution_count": 12,
   "id": "f8fe321c",
   "metadata": {},
   "outputs": [
    {
     "name": "stdout",
     "output_type": "stream",
     "text": [
      "258\n"
     ]
    }
   ],
   "source": [
    "print(df_refined['spelllength_total'].max())"
   ]
  },
  {
   "cell_type": "code",
   "execution_count": 6,
   "id": "7096b3a9",
   "metadata": {},
   "outputs": [],
   "source": [
    "df_original['cumscreentime'] = df_original.groupby(['subject_id'])['screenTime'].cumsum()\n",
    "df_refined['cumscreentime'] = df_refined.groupby(['subject_id'])['screenTime'].cumsum()"
   ]
  },
  {
   "cell_type": "code",
   "execution_count": 14,
   "id": "3f8d76b3",
   "metadata": {},
   "outputs": [],
   "source": [
    "list1 = df_original.index[df_original['spelllength_total']==0].to_list()\n",
    "list2 = df_refined.index[df_refined['spelllength_total']==0].to_list()"
   ]
  },
  {
   "cell_type": "code",
   "execution_count": 15,
   "id": "94c0e7ef",
   "metadata": {},
   "outputs": [],
   "source": [
    "max_index_list = [i-1 for i in list1]\n",
    "max_index_list_refined = [i-1 for i in list2]"
   ]
  },
  {
   "cell_type": "code",
   "execution_count": 16,
   "id": "0e38195c",
   "metadata": {},
   "outputs": [],
   "source": [
    "df_max_length_original = df_original.iloc[max_index_list]"
   ]
  },
  {
   "cell_type": "code",
   "execution_count": 18,
   "id": "20389b0e",
   "metadata": {},
   "outputs": [
    {
     "data": {
      "text/plain": [
       "(14771, 110)"
      ]
     },
     "execution_count": 18,
     "metadata": {},
     "output_type": "execute_result"
    }
   ],
   "source": [
    "df_max_length_original.shape"
   ]
  },
  {
   "cell_type": "code",
   "execution_count": 19,
   "id": "85350935",
   "metadata": {},
   "outputs": [],
   "source": [
    "df_max_length_refined = df_refined.iloc[max_index_list_refined]"
   ]
  },
  {
   "cell_type": "code",
   "execution_count": 20,
   "id": "6cd19720",
   "metadata": {},
   "outputs": [
    {
     "data": {
      "text/plain": [
       "(11279, 94)"
      ]
     },
     "execution_count": 20,
     "metadata": {},
     "output_type": "execute_result"
    }
   ],
   "source": [
    "df_max_length_refined.shape"
   ]
  },
  {
   "cell_type": "code",
   "execution_count": 21,
   "id": "f7d28006",
   "metadata": {},
   "outputs": [],
   "source": [
    "df_max_length_original.to_csv('max_spell_length_original.csv')\n",
    "df_max_length_refined.to_csv('max_spell_length_refined.csv')"
   ]
  },
  {
   "cell_type": "code",
   "execution_count": null,
   "id": "b166bfed",
   "metadata": {},
   "outputs": [],
   "source": [
    "## regressions for spell length"
   ]
  },
  {
   "cell_type": "code",
   "execution_count": 23,
   "id": "d417f840",
   "metadata": {},
   "outputs": [],
   "source": [
    "import statsmodels.api as sm\n",
    "import statsmodels.formula.api as smf\n",
    "\n",
    "diff_original_spelllength =  smf.ols('spelllength_total~C(trt_type)',data=df_max_length_original).fit()\n",
    "diff_refined_spelllength =  smf.ols('spelllength_total~C(trt_type)',data=df_max_length_refined).fit()"
   ]
  },
  {
   "cell_type": "code",
   "execution_count": 25,
   "id": "d33cf753",
   "metadata": {},
   "outputs": [
    {
     "name": "stdout",
     "output_type": "stream",
     "text": [
      "\\begin{table}\n",
      "\\caption{}\n",
      "\\label{}\n",
      "\\begin{center}\n",
      "\\begin{tabular}{lll}\n",
      "\\hline\n",
      "                  & spelllength\\_total I & spelllength\\_total II  \\\\\n",
      "\\hline\n",
      "Intercept         & 5.2631***            & 5.9969***              \\\\\n",
      "                  & (0.1303)             & (0.1489)               \\\\\n",
      "C(trt\\_type)[T.1] & -3.1061***           & -3.6273***             \\\\\n",
      "                  & (0.1624)             & (0.1836)               \\\\\n",
      "R-squared         & 0.0242               & 0.0335                 \\\\\n",
      "R-squared Adj.    & 0.0241               & 0.0334                 \\\\\n",
      "\\hline\n",
      "\\end{tabular}\n",
      "\\end{center}\n",
      "\\end{table}\n"
     ]
    }
   ],
   "source": [
    "from statsmodels.iolib.summary2 import summary_col\n",
    "\n",
    "table5 = summary_col([diff_original_spelllength,diff_refined_spelllength],stars=True)\n",
    "print(table5.as_latex())"
   ]
  },
  {
   "cell_type": "markdown",
   "id": "9fc2c786",
   "metadata": {},
   "source": [
    "### Coding for the optimal benchmark"
   ]
  },
  {
   "cell_type": "code",
   "execution_count": null,
   "id": "2e020471",
   "metadata": {},
   "outputs": [],
   "source": [
    "#things to initialize:\n",
    "\n",
    "#prior - drawn from a uniform random distribution \n",
    "#delta - prob of regime change in every round - 0.05 - confirm this - Woodford appendix says it should be 0.5\n",
    "#T - total trials - 1000"
   ]
  },
  {
   "cell_type": "code",
   "execution_count": null,
   "id": "c4fb6b1d",
   "metadata": {},
   "outputs": [],
   "source": [
    "#things to compute \n",
    "\n",
    "#p - updates every round - takes the value of the posterior distribution\n",
    "#likelihood - first computed via the prior, then updated every round - check this\n",
    "#k_n - if the prediction is a success - higher prob (>50) of green coming = green shows up - maybe? \n",
    "#- here is where the prerecorded data comes up.\n",
    "#average likelihood - over past rounds\n",
    "#likelihood of regime change - mu_i - conditional on delta\n",
    "#N(pi) - unclear how the dm can have an estimate of no of regimes in a session \n",
    "#- maybe it is about how many regimes have already been witnessed?\n",
    "#Q(n) - multiply mu_i and average likelihood and sum it across all partitions\n",
    "#and finally the posterior prediction using the last formula - which is just the computation of pre-computed things"
   ]
  },
  {
   "cell_type": "code",
   "execution_count": 1,
   "id": "eeff14d5",
   "metadata": {},
   "outputs": [],
   "source": [
    "import numpy as np\n",
    "import scipy.integrate as integrate\n",
    "import pandas as pd\n",
    "from scipy.stats import uniform\n",
    "import copy\n",
    "import itertools\n",
    "from numba import njit, jit"
   ]
  },
  {
   "cell_type": "code",
   "execution_count": 2,
   "id": "a62c1279",
   "metadata": {},
   "outputs": [],
   "source": [
    "def print_all_sum_rec(target, current_sum, start, output, result):\n",
    "    if current_sum == target:\n",
    "        output.append(copy.copy(result))\n",
    "\n",
    "    for i in range(start, target):\n",
    "        temp_sum = current_sum + i\n",
    "        if temp_sum <= target:\n",
    "            result.append(i)\n",
    "            print_all_sum_rec(target, temp_sum, i, output, result)\n",
    "            result.pop()\n",
    "        else:\n",
    "            return"
   ]
  },
  {
   "cell_type": "code",
   "execution_count": 3,
   "id": "ca916738",
   "metadata": {},
   "outputs": [],
   "source": [
    "def print_all_sum(target):\n",
    "    output = []\n",
    "    result = []\n",
    "    print_all_sum_rec(target, 0, 1, output, result)\n",
    "    return output"
   ]
  },
  {
   "cell_type": "code",
   "execution_count": 5,
   "id": "77055afd",
   "metadata": {},
   "outputs": [
    {
     "data": {
      "text/html": [
       "<div>\n",
       "<style scoped>\n",
       "    .dataframe tbody tr th:only-of-type {\n",
       "        vertical-align: middle;\n",
       "    }\n",
       "\n",
       "    .dataframe tbody tr th {\n",
       "        vertical-align: top;\n",
       "    }\n",
       "\n",
       "    .dataframe thead th {\n",
       "        text-align: right;\n",
       "    }\n",
       "</style>\n",
       "<table border=\"1\" class=\"dataframe\">\n",
       "  <thead>\n",
       "    <tr style=\"text-align: right;\">\n",
       "      <th></th>\n",
       "      <th>Unnamed: 0</th>\n",
       "      <th>Unnamed: 0.1</th>\n",
       "      <th>_id</th>\n",
       "      <th>userId</th>\n",
       "      <th>roundNo</th>\n",
       "      <th>screenTime</th>\n",
       "      <th>sliderValue</th>\n",
       "      <th>currHiddenProb</th>\n",
       "      <th>currRingColor</th>\n",
       "      <th>nextHiddenProb</th>\n",
       "      <th>nextRingColor</th>\n",
       "      <th>cumlativeScore</th>\n",
       "      <th>changedInScore</th>\n",
       "      <th>__v</th>\n",
       "      <th>sliderValue100</th>\n",
       "    </tr>\n",
       "  </thead>\n",
       "  <tbody>\n",
       "    <tr>\n",
       "      <th>0</th>\n",
       "      <td>6793</td>\n",
       "      <td>6793</td>\n",
       "      <td>{'$oid': '614f119688170668f619a82c'}</td>\n",
       "      <td>17</td>\n",
       "      <td>1</td>\n",
       "      <td>38.834</td>\n",
       "      <td>59.8</td>\n",
       "      <td>0.186</td>\n",
       "      <td>0</td>\n",
       "      <td>0.186</td>\n",
       "      <td>0</td>\n",
       "      <td>0.642</td>\n",
       "      <td>0.642</td>\n",
       "      <td>0</td>\n",
       "      <td>0.598</td>\n",
       "    </tr>\n",
       "    <tr>\n",
       "      <th>1</th>\n",
       "      <td>6794</td>\n",
       "      <td>6794</td>\n",
       "      <td>{'$oid': '614f119d88170668f619a832'}</td>\n",
       "      <td>17</td>\n",
       "      <td>2</td>\n",
       "      <td>7.678</td>\n",
       "      <td>59.8</td>\n",
       "      <td>0.186</td>\n",
       "      <td>0</td>\n",
       "      <td>0.186</td>\n",
       "      <td>0</td>\n",
       "      <td>1.284</td>\n",
       "      <td>0.642</td>\n",
       "      <td>0</td>\n",
       "      <td>0.598</td>\n",
       "    </tr>\n",
       "    <tr>\n",
       "      <th>2</th>\n",
       "      <td>6795</td>\n",
       "      <td>6795</td>\n",
       "      <td>{'$oid': '614f11a688170668f619a835'}</td>\n",
       "      <td>17</td>\n",
       "      <td>3</td>\n",
       "      <td>8.660</td>\n",
       "      <td>54.2</td>\n",
       "      <td>0.186</td>\n",
       "      <td>0</td>\n",
       "      <td>0.186</td>\n",
       "      <td>0</td>\n",
       "      <td>1.990</td>\n",
       "      <td>0.706</td>\n",
       "      <td>0</td>\n",
       "      <td>0.542</td>\n",
       "    </tr>\n",
       "    <tr>\n",
       "      <th>3</th>\n",
       "      <td>6796</td>\n",
       "      <td>6796</td>\n",
       "      <td>{'$oid': '614f11b088170668f619a838'}</td>\n",
       "      <td>17</td>\n",
       "      <td>4</td>\n",
       "      <td>10.326</td>\n",
       "      <td>54.2</td>\n",
       "      <td>0.186</td>\n",
       "      <td>0</td>\n",
       "      <td>0.186</td>\n",
       "      <td>0</td>\n",
       "      <td>2.696</td>\n",
       "      <td>0.706</td>\n",
       "      <td>0</td>\n",
       "      <td>0.542</td>\n",
       "    </tr>\n",
       "    <tr>\n",
       "      <th>4</th>\n",
       "      <td>6799</td>\n",
       "      <td>6799</td>\n",
       "      <td>{'$oid': '614f11b888170668f619a841'}</td>\n",
       "      <td>17</td>\n",
       "      <td>5</td>\n",
       "      <td>8.282</td>\n",
       "      <td>54.2</td>\n",
       "      <td>0.186</td>\n",
       "      <td>0</td>\n",
       "      <td>0.186</td>\n",
       "      <td>0</td>\n",
       "      <td>3.402</td>\n",
       "      <td>0.706</td>\n",
       "      <td>0</td>\n",
       "      <td>0.542</td>\n",
       "    </tr>\n",
       "  </tbody>\n",
       "</table>\n",
       "</div>"
      ],
      "text/plain": [
       "   Unnamed: 0  Unnamed: 0.1                                   _id  userId  \\\n",
       "0        6793          6793  {'$oid': '614f119688170668f619a82c'}      17   \n",
       "1        6794          6794  {'$oid': '614f119d88170668f619a832'}      17   \n",
       "2        6795          6795  {'$oid': '614f11a688170668f619a835'}      17   \n",
       "3        6796          6796  {'$oid': '614f11b088170668f619a838'}      17   \n",
       "4        6799          6799  {'$oid': '614f11b888170668f619a841'}      17   \n",
       "\n",
       "   roundNo  screenTime  sliderValue  currHiddenProb  currRingColor  \\\n",
       "0        1      38.834         59.8           0.186              0   \n",
       "1        2       7.678         59.8           0.186              0   \n",
       "2        3       8.660         54.2           0.186              0   \n",
       "3        4      10.326         54.2           0.186              0   \n",
       "4        5       8.282         54.2           0.186              0   \n",
       "\n",
       "   nextHiddenProb  nextRingColor  cumlativeScore  changedInScore  __v  \\\n",
       "0           0.186              0           0.642           0.642    0   \n",
       "1           0.186              0           1.284           0.642    0   \n",
       "2           0.186              0           1.990           0.706    0   \n",
       "3           0.186              0           2.696           0.706    0   \n",
       "4           0.186              0           3.402           0.706    0   \n",
       "\n",
       "   sliderValue100  \n",
       "0           0.598  \n",
       "1           0.598  \n",
       "2           0.542  \n",
       "3           0.542  \n",
       "4           0.542  "
      ]
     },
     "execution_count": 5,
     "metadata": {},
     "output_type": "execute_result"
    }
   ],
   "source": [
    "dat = pd.read_csv(r\"C:\\Users\\adesh\\Documents\\LBR_data\\Phase1\\Day1\\participant_csvs\\part17.csv\")\n",
    "dat.head()"
   ]
  },
  {
   "cell_type": "code",
   "execution_count": null,
   "id": "067bbd90",
   "metadata": {},
   "outputs": [],
   "source": [
    "T = 1000\n",
    "delta = 0.005\n",
    "n = 1 # no of rounds in the current regime\n",
    "N = 1 #total number of regimes\n",
    "p = np.random.uniform(low=0.0,high=1.01) #prior - initialized\n",
    "kn = 0 # number of successes in every regime \n",
    "Q = 0 \n",
    "denom_P = 0"
   ]
  },
  {
   "cell_type": "code",
   "execution_count": null,
   "id": "22dfeb64",
   "metadata": {},
   "outputs": [],
   "source": [
    "for i in range(0,1001):\n",
    "    \n",
    "    #code for determining posterior \n",
    "    \n",
    "    kn += 1 if currRingColor[i] == 1 \n",
    "    L = p**kn * (1-p)**(n-kn) #starting off with the likelihood\n",
    "    f = uniform.pdf(p) #calculating the pdf which is useful for the next step\n",
    "    integrated_L = integrate.quad(lambda p: L * f(p), 0, 1)[0]\n",
    "    avg_likelihood = integated_L/n\n",
    "    #total_avg_likelihood.append(avg_likehood) #this will update only when the regime changes - thus put it all the way in the end when updating other variables\n",
    "    mu = (1-delta)***(T-N+1) * delta**(N-1)\n",
    "    #joint_prob_of_correct = mu * total_avg_likelihood * f * L \n",
    "    Q += mu * total_avg_likelihood # this perhaps updates only when total_avg likelihood updates - put it all the way in the end \n",
    "    denom_P += Q * L\n",
    "    num_P = Q * f * L\n",
    "    P = num_P/denom_P \n",
    "    B = ((1-delta) * integrate.quad(lambda p: p * P, 0, 1)[0]) + delta/2\n",
    "    \n",
    "    #code for updating values \n",
    "    \n",
    "    #values that need to be updated \n",
    "    #n - need to write a function that maps an additive value for n when regime doesn't change, but resets to 1 when it does\n",
    "    #total_avg_likelihood\n",
    "    #Q as a result of the update to total number of regimes\n",
    "    #N - total number of regimes - write function that updates the counter \n",
    "    #p = B - posterior for previous round becomes prior for this round.\n",
    "    "
   ]
  },
  {
   "cell_type": "code",
   "execution_count": null,
   "id": "618362bc",
   "metadata": {},
   "outputs": [],
   "source": [
    "#writing the code for regime change - we want to be able to detect if the regime has changed since the last round / all rounds since the first one\n",
    "\n",
    "#compute kn for each value of n = 1,...,t\n",
    "#determine the likelihood that the regime has changed since the last observation\n",
    "#to know this, we need to know k_1, k_2,....k_t.\n",
    "\n",
    "for i in range (0,kn):\n",
    "    #compute likelihood of regime change "
   ]
  }
 ],
 "metadata": {
  "kernelspec": {
   "display_name": "Python 3",
   "language": "python",
   "name": "python3"
  },
  "language_info": {
   "codemirror_mode": {
    "name": "ipython",
    "version": 3
   },
   "file_extension": ".py",
   "mimetype": "text/x-python",
   "name": "python",
   "nbconvert_exporter": "python",
   "pygments_lexer": "ipython3",
   "version": "3.8.8"
  }
 },
 "nbformat": 4,
 "nbformat_minor": 5
}
